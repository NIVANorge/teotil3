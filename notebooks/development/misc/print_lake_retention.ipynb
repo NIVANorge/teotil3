{
 "cells": [
  {
   "cell_type": "code",
   "execution_count": null,
   "id": "324be78b-5fdb-4c61-aeb0-420c62371002",
   "metadata": {},
   "outputs": [],
   "source": [
    "# # Run this and then restart the kernel at the start of each session to install\n",
    "# # 'teotil3' in development mode\n",
    "# !pip install -e /home/jovyan/projects/teotil3/"
   ]
  },
  {
   "cell_type": "code",
   "execution_count": null,
   "id": "cc222525-4e51-47cb-94bb-5fbee680cf52",
   "metadata": {},
   "outputs": [],
   "source": [
    "import pandas as pd\n",
    "import teotil3 as teo\n",
    "import os"
   ]
  },
  {
   "cell_type": "markdown",
   "id": "038b9188-e9eb-4bec-91e6-fd54154b11dd",
   "metadata": {},
   "source": [
    "# Print lake retention\n",
    "\n",
    "A quick notebook to print retention estimates for any lake in the TEOTIL3 dataset."
   ]
  },
  {
   "cell_type": "code",
   "execution_count": null,
   "id": "885ab840-ad41-4ddd-821e-4fcc53b64585",
   "metadata": {},
   "outputs": [],
   "source": [
    "# Read model results\n",
    "eval_fold = r\"/home/jovyan/shared/common/teotil3/evaluation\"\n",
    "mod_csv = os.path.join(eval_fold, r\"teo3_results_nve2023_2013-2022.csv\")\n",
    "mod_df = pd.read_csv(mod_csv)\n",
    "\n",
    "mod_df.head()"
   ]
  },
  {
   "cell_type": "code",
   "execution_count": null,
   "id": "2ad2d4fd-5455-4735-9093-609ebeba254c",
   "metadata": {},
   "outputs": [],
   "source": [
    "res_csv = r\"../../../data/lake_residence_times_10m_dem.csv\"\n",
    "df = pd.read_csv(res_csv)"
   ]
  },
  {
   "cell_type": "code",
   "execution_count": null,
   "id": "ed5de303-1252-42f6-90ea-b8611b18b858",
   "metadata": {},
   "outputs": [],
   "source": [
    "# Original parameters derived from literature data\n",
    "# voll_dict = {\n",
    "#     \"totp\": {\n",
    "#         \"ind_var_col\": \"res_time_yr\",\n",
    "#         \"model\": \"sigma_from_tau\",\n",
    "#         \"k\": 1,\n",
    "#         \"p\": 0.5,\n",
    "#     },\n",
    "#     \"tdp\": {\n",
    "#         \"ind_var_col\": \"res_time_yr\",\n",
    "#         \"model\": \"sigma_from_tau\",\n",
    "#         \"k\": 0.5,\n",
    "#         \"p\": 0.5,\n",
    "#     },\n",
    "#     \"tpp\": {\n",
    "#         \"ind_var_col\": \"res_time_yr\",\n",
    "#         \"model\": \"sigma_from_tau\",\n",
    "#         \"k\": 2,\n",
    "#         \"p\": 0.5,\n",
    "#     },\n",
    "#     \"totn\": {\"ind_var_col\": \"hyd_load_mpyr\", \"model\": \"sigma_from_depth\", \"s\": 4.5},\n",
    "#     \"din\": {\"ind_var_col\": \"hyd_load_mpyr\", \"model\": \"sigma_from_depth\", \"s\": 6.0},\n",
    "#     \"ton\": {\"ind_var_col\": \"hyd_load_mpyr\", \"model\": \"sigma_from_depth\", \"s\": 1.4},\n",
    "#     \"ss\": {\"ind_var_col\": \"res_time_yr\", \"model\": \"sigma_constant\", \"sigma\": 90},\n",
    "#     \"toc\": {\n",
    "#         \"ind_var_col\": \"res_time_yr\",\n",
    "#         \"model\": \"sigma_from_tau\",\n",
    "#         \"k\": 0.6,\n",
    "#         \"p\": 0.4,\n",
    "#     },\n",
    "# }\n",
    "# Current default parameters modified from literature values during calibration\n",
    "voll_dict = {\n",
    "    \"totp\": {\n",
    "        \"ind_var_col\": \"res_time_yr\",\n",
    "        \"model\": \"sigma_from_tau\",\n",
    "        \"k\": 1,\n",
    "        \"p\": 0.5,\n",
    "    },\n",
    "    \"tdp\": {\n",
    "        \"ind_var_col\": \"res_time_yr\",\n",
    "        \"model\": \"sigma_from_tau\",\n",
    "        \"k\": 0.2,\n",
    "        \"p\": 0.5,\n",
    "    },\n",
    "    \"tpp\": {\n",
    "        \"ind_var_col\": \"res_time_yr\",\n",
    "        \"model\": \"sigma_from_tau\",\n",
    "        \"k\": 3,\n",
    "        \"p\": 0.5,\n",
    "    },\n",
    "    \"totn\": {\n",
    "        \"ind_var_col\": \"hyd_load_mpyr\",\n",
    "        \"model\": \"sigma_from_depth\",\n",
    "        \"s\": 6,\n",
    "    },\n",
    "    \"din\": {\n",
    "        \"ind_var_col\": \"hyd_load_mpyr\",\n",
    "        \"model\": \"sigma_from_depth\",\n",
    "        \"s\": 8,\n",
    "    },\n",
    "    \"ton\": {\n",
    "        \"ind_var_col\": \"hyd_load_mpyr\",\n",
    "        \"model\": \"sigma_from_depth\",\n",
    "        \"s\": 3,\n",
    "    },\n",
    "    \"ss\": {\n",
    "        \"ind_var_col\": \"res_time_yr\",\n",
    "        \"model\": \"sigma_constant\",\n",
    "        \"sigma\": 60,\n",
    "    },\n",
    "    \"toc\": {\n",
    "        \"ind_var_col\": \"res_time_yr\",\n",
    "        \"model\": \"sigma_from_tau\",\n",
    "        \"k\": 0.4,\n",
    "        \"p\": 0.4,\n",
    "    },\n",
    "}\n",
    "for par, params in voll_dict.items():\n",
    "    df = teo.preprocessing.calculate_lake_retention_vollenweider(df, par, params)"
   ]
  },
  {
   "cell_type": "markdown",
   "id": "b4880a47-8cb0-470f-8926-dc801e360cf7",
   "metadata": {},
   "source": [
    "## User input"
   ]
  },
  {
   "cell_type": "code",
   "execution_count": null,
   "id": "5a1971f5-e693-4b5d-b917-4d934e1069c3",
   "metadata": {},
   "outputs": [],
   "source": [
    "vatnlnr = 1348 \n",
    "st_yr = 2013\n",
    "end_yr = 2022"
   ]
  },
  {
   "cell_type": "code",
   "execution_count": null,
   "id": "09b72c06-9a90-4347-ad41-61c447e4963c",
   "metadata": {},
   "outputs": [],
   "source": [
    "df.set_index('vatnLnr').query(\"vatnLnr == @vatnlnr\").T"
   ]
  },
  {
   "cell_type": "code",
   "execution_count": null,
   "id": "a877244e-9aa9-4f52-a82b-a017e0cada60",
   "metadata": {},
   "outputs": [],
   "source": [
    "reg_id = df.query(\"vatnLnr == @vatnlnr\")['regine'].iloc[0]\n",
    "res_dict = teo.model.get_avlastningsbehov(\n",
    "    reg_id,\n",
    "    \"TOTN\",\n",
    "    500,\n",
    "    mod_df,\n",
    "    st_yr=st_yr,\n",
    "    end_yr=end_yr,\n",
    "    index_col=\"year\",\n",
    ")"
   ]
  }
 ],
 "metadata": {
  "kernelspec": {
   "display_name": "Python 3 (ipykernel)",
   "language": "python",
   "name": "python3"
  },
  "language_info": {
   "codemirror_mode": {
    "name": "ipython",
    "version": 3
   },
   "file_extension": ".py",
   "mimetype": "text/x-python",
   "name": "python",
   "nbconvert_exporter": "python",
   "pygments_lexer": "ipython3",
   "version": "3.11.6"
  }
 },
 "nbformat": 4,
 "nbformat_minor": 5
}
