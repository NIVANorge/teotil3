{
 "cells": [
  {
   "cell_type": "code",
   "execution_count": 1,
   "id": "c9ecf40e-96a4-40d9-90ef-c6172048cc46",
   "metadata": {},
   "outputs": [],
   "source": [
    "# # Run this and then restart the kernel at the start of each session to install\n",
    "# # 'teotil3' in development mode\n",
    "# !pip install -e /home/jovyan/projects/teotil3/"
   ]
  },
  {
   "cell_type": "code",
   "execution_count": 2,
   "id": "af01455c-7ef8-4e5b-b7f4-2c875c6824e6",
   "metadata": {
    "tags": []
   },
   "outputs": [],
   "source": [
    "import os\n",
    "from pprint import pprint\n",
    "\n",
    "import geopandas as gpd\n",
    "import teotil3 as teo\n",
    "from shapely import force_2d"
   ]
  },
  {
   "cell_type": "markdown",
   "id": "ef9adbd4-0d78-4f2b-857b-52c423cc5c21",
   "metadata": {},
   "source": [
    "# Process NIBIO regines\n",
    "\n",
    "NIBIO have used a different set of regines to the ones I originally downloaded. Ideally we should both update to use the latest version, but this is difficult for NIBIO, so I will switch to using their dataset instead. \n",
    "\n",
    "NIBIO originally downloaded a shapefile rather than a geodatabase. This notebook restructures the shapefile into the format expected by TEOTIL. It's essentially a temporary replacement for `teo.preprocessing.read_raw_regine_data`, but customised to work with the NIBIO shapefile."
   ]
  },
  {
   "cell_type": "code",
   "execution_count": 4,
   "id": "24a82cc3-2974-404a-a8a9-60730353596a",
   "metadata": {
    "tags": []
   },
   "outputs": [],
   "source": [
    "# Original NVE data\n",
    "data_fold = f\"/home/jovyan/shared/common/teotil3/core_data\"\n",
    "nve_gdb = os.path.join(data_fold, \"hydrology\", \"NVEData.gdb\")\n",
    "\n",
    "# NIBIO data\n",
    "shp_path = r\"/home/jovyan/shared/common/teotil3/core_data/hydrology/regines_nibio_dec_2023/Nedborfelt_RegineEnhet.shp\"\n",
    "\n",
    "# Output geopackage\n",
    "nib_gpkg = os.path.join(data_fold, \"hydrology\", \"nibio_regines.gpkg\")"
   ]
  },
  {
   "cell_type": "code",
   "execution_count": 5,
   "id": "0ce5db82-74a8-408a-9c5d-6a14bb783178",
   "metadata": {
    "tags": []
   },
   "outputs": [
    {
     "name": "stdout",
     "output_type": "stream",
     "text": [
      "{'Q3060lskm2': 'QNormal3060_lskm2',\n",
      " 'Q6190lskm2': 'QNormalr6190_lskm2',\n",
      " 'enhAreal': 'regineAreal_km2',\n",
      " 'hierarki': 'elvNavnHierarki',\n",
      " 'navnLokal': 'lokalNavn',\n",
      " 'navnNbfHav': 'nedborfeltTilHav',\n",
      " 'navnNedbf': 'overordnetNedborfeltNavn',\n",
      " 'nbfHavNr': 'nedbfeltHavVassdragNr',\n",
      " 'niva': 'hierarkiNivaRegine',\n",
      " 'objType': 'objektType',\n",
      " 'pktNavnFra': 'punktNavnFra',\n",
      " 'regineQ': 'QNormalRegine_Mm3Aar',\n",
      " 'statOmrNr': 'statistikkomrNr',\n",
      " 'tilPktNavn': 'punktNavnTil',\n",
      " 'totAreal': 'nedborfeltOppstromAreal_km2',\n",
      " 'totTilsig': 'QNedborfeltOppstrom_Mm3Aar',\n",
      " 'vassdragNr': 'vassdragsnummer',\n",
      " 'vnrOFelt': 'nedborfeltVassdragNrOverordnet'}\n"
     ]
    },
    {
     "data": {
      "text/html": [
       "<div>\n",
       "<style scoped>\n",
       "    .dataframe tbody tr th:only-of-type {\n",
       "        vertical-align: middle;\n",
       "    }\n",
       "\n",
       "    .dataframe tbody tr th {\n",
       "        vertical-align: top;\n",
       "    }\n",
       "\n",
       "    .dataframe thead th {\n",
       "        text-align: right;\n",
       "    }\n",
       "</style>\n",
       "<table border=\"1\" class=\"dataframe\">\n",
       "  <thead>\n",
       "    <tr style=\"text-align: right;\">\n",
       "      <th></th>\n",
       "      <th>regine</th>\n",
       "      <th>vassom</th>\n",
       "      <th>a_cat_poly_km2</th>\n",
       "      <th>upstr_a_km2</th>\n",
       "      <th>geometry</th>\n",
       "    </tr>\n",
       "  </thead>\n",
       "  <tbody>\n",
       "    <tr>\n",
       "      <th>0</th>\n",
       "      <td>001.10</td>\n",
       "      <td>001</td>\n",
       "      <td>1.442790</td>\n",
       "      <td>0.00</td>\n",
       "      <td>POLYGON ((297006.830 6543966.950, 297169.290 6...</td>\n",
       "    </tr>\n",
       "    <tr>\n",
       "      <th>1</th>\n",
       "      <td>001.1A1</td>\n",
       "      <td>001</td>\n",
       "      <td>1.432479</td>\n",
       "      <td>777.90</td>\n",
       "      <td>POLYGON ((297505.440 6543157.790, 297543.100 6...</td>\n",
       "    </tr>\n",
       "    <tr>\n",
       "      <th>2</th>\n",
       "      <td>001.1A20</td>\n",
       "      <td>001</td>\n",
       "      <td>0.340160</td>\n",
       "      <td>777.90</td>\n",
       "      <td>POLYGON ((297770.368 6543429.036, 297787.114 6...</td>\n",
       "    </tr>\n",
       "    <tr>\n",
       "      <th>3</th>\n",
       "      <td>001.1A2A</td>\n",
       "      <td>001</td>\n",
       "      <td>17.647822</td>\n",
       "      <td>58.96</td>\n",
       "      <td>POLYGON ((299678.370 6544460.320, 299667.220 6...</td>\n",
       "    </tr>\n",
       "    <tr>\n",
       "      <th>4</th>\n",
       "      <td>001.1A2B</td>\n",
       "      <td>001</td>\n",
       "      <td>41.298255</td>\n",
       "      <td>41.30</td>\n",
       "      <td>POLYGON ((303353.460 6552989.330, 303341.620 6...</td>\n",
       "    </tr>\n",
       "  </tbody>\n",
       "</table>\n",
       "</div>"
      ],
      "text/plain": [
       "     regine vassom  a_cat_poly_km2  upstr_a_km2  \\\n",
       "0    001.10    001        1.442790         0.00   \n",
       "1   001.1A1    001        1.432479       777.90   \n",
       "2  001.1A20    001        0.340160       777.90   \n",
       "3  001.1A2A    001       17.647822        58.96   \n",
       "4  001.1A2B    001       41.298255        41.30   \n",
       "\n",
       "                                            geometry  \n",
       "0  POLYGON ((297006.830 6543966.950, 297169.290 6...  \n",
       "1  POLYGON ((297505.440 6543157.790, 297543.100 6...  \n",
       "2  POLYGON ((297770.368 6543429.036, 297787.114 6...  \n",
       "3  POLYGON ((299678.370 6544460.320, 299667.220 6...  \n",
       "4  POLYGON ((303353.460 6552989.330, 303341.620 6...  "
      ]
     },
     "execution_count": 5,
     "metadata": {},
     "output_type": "execute_result"
    }
   ],
   "source": [
    "# Read original and NIBIO datasets\n",
    "reg_gdf = gpd.read_file(nve_gdb, driver=\"fileGDB\", layer=\"RegineEnhet\")\n",
    "nib_gdf = gpd.read_file(shp_path)\n",
    "\n",
    "# Get column name mapping and check it looks OK\n",
    "names_dict = {\n",
    "    shp: gdb\n",
    "    for shp, gdb in zip(nib_gdf.columns, reg_gdf.columns)\n",
    "    if gdb not in (\"SHAPE_Length\", \"SHAPE_Area\", \"geometry\")\n",
    "}\n",
    "pprint(names_dict)\n",
    "\n",
    "# Rename\n",
    "nib_gdf.rename(columns=names_dict, inplace=True)\n",
    "\n",
    "# Convert to PolyZ to Poly\n",
    "nib_gdf[\"geometry\"] = nib_gdf[\"geometry\"].apply(lambda geom: force_2d(geom))\n",
    "\n",
    "# Process to match format expected by TEOTIL\n",
    "nib_gdf.rename(\n",
    "    {\n",
    "        \"vassdragsnummer\": \"regine\",\n",
    "        \"nedborfeltOppstromAreal_km2\": \"upstr_a_km2\",\n",
    "    },\n",
    "    axis=\"columns\",\n",
    "    inplace=True,\n",
    ")\n",
    "\n",
    "# Remove Svalbard\n",
    "nib_gdf[\"vassom\"] = nib_gdf[\"regine\"].str.split(\".\", n=1).str[0].astype(int)\n",
    "nib_gdf = nib_gdf.query(\"vassom < 400\").copy()\n",
    "nib_gdf[\"vassom\"] = nib_gdf[\"vassom\"].apply(lambda x: f\"{x:03}\")\n",
    "\n",
    "# Calculate polygon area\n",
    "nib_gdf[\"a_cat_poly_km2\"] = nib_gdf.to_crs({\"proj\": \"cea\"})[\"geometry\"].area / 1e6\n",
    "\n",
    "# Get columns of interest\n",
    "reg_cols = [\n",
    "    \"regine\",\n",
    "    \"vassom\",\n",
    "    \"a_cat_poly_km2\",\n",
    "    \"upstr_a_km2\",\n",
    "    \"geometry\",\n",
    "]\n",
    "nib_gdf = nib_gdf[reg_cols]\n",
    "\n",
    "# Sort by 'regine' and reset index\n",
    "nib_gdf.sort_values(\"regine\", inplace=True)\n",
    "nib_gdf.reset_index(inplace=True, drop=True)\n",
    "\n",
    "nib_gdf.head()"
   ]
  },
  {
   "cell_type": "code",
   "execution_count": 6,
   "id": "00ac63f9-fa36-4b32-9e39-4c1cc86c9ef1",
   "metadata": {
    "tags": []
   },
   "outputs": [],
   "source": [
    "teo.io.geodataframe_to_geopackage(nib_gdf, nib_gpkg, \"RegineEnhetNibio\")"
   ]
  }
 ],
 "metadata": {
  "kernelspec": {
   "display_name": "Python 3 (ipykernel)",
   "language": "python",
   "name": "python3"
  },
  "language_info": {
   "codemirror_mode": {
    "name": "ipython",
    "version": 3
   },
   "file_extension": ".py",
   "mimetype": "text/x-python",
   "name": "python",
   "nbconvert_exporter": "python",
   "pygments_lexer": "ipython3",
   "version": "3.10.11"
  }
 },
 "nbformat": 4,
 "nbformat_minor": 5
}
