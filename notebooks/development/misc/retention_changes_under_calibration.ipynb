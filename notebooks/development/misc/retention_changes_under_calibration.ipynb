{
 "cells": [
  {
   "cell_type": "code",
   "execution_count": 1,
   "id": "7b9869b9-f86a-4ad1-807a-91f0801a4f49",
   "metadata": {},
   "outputs": [],
   "source": [
    "import numpy as np\n",
    "import pandas as pd"
   ]
  },
  {
   "cell_type": "markdown",
   "id": "9ef6f045-f836-4588-a478-16f19a1a48a7",
   "metadata": {},
   "source": [
    "# Retention changes under calibration\n",
    "\n",
    "This notebook uses the estimated residence times and hydraulic loads for all 35000 lakes in the TEOTIL3 database to explore how much calibration changes mean estimates for lake retention."
   ]
  },
  {
   "cell_type": "code",
   "execution_count": 2,
   "id": "238cf321-77c7-4936-9876-9381671f5189",
   "metadata": {},
   "outputs": [],
   "source": [
    "def transmission_sigma_constant(tau, sigma=1):\n",
    "    \"\"\"Model for \"option 1\".\"\"\"\n",
    "    return 1 / (1 + (sigma * tau))\n",
    "\n",
    "\n",
    "def transmission_sigma_as_func_of_tau(tau, k=1, m=1):\n",
    "    \"\"\"Model for \"option 2\".\"\"\"\n",
    "    return 1 / (1 + (k * (tau ** (1 + m))))\n",
    "\n",
    "\n",
    "def transmission_sigma_as_func_of_depth(H, s=1):\n",
    "    \"\"\"Model for \"option 3\".\"\"\"\n",
    "    return 1 / (1 + (s / H))"
   ]
  },
  {
   "cell_type": "code",
   "execution_count": 3,
   "id": "93b9e84f-d11b-4e79-ab36-341839b73b20",
   "metadata": {},
   "outputs": [
    {
     "data": {
      "text/plain": [
       "34887"
      ]
     },
     "execution_count": 3,
     "metadata": {},
     "output_type": "execute_result"
    }
   ],
   "source": [
    "res_csv = r\"../../../data/lake_residence_times_10m_dem.csv\"\n",
    "df = pd.read_csv(res_csv)\n",
    "tau = df[\"res_time_yr\"].values\n",
    "H = df[\"hyd_load_mpyr\"].values\n",
    "len(df)"
   ]
  },
  {
   "cell_type": "code",
   "execution_count": 4,
   "id": "f4a9b95f-4bdb-44a5-9318-e1a7d3a355b1",
   "metadata": {},
   "outputs": [
    {
     "name": "stdout",
     "output_type": "stream",
     "text": [
      "Original:   7.84\n",
      "Calibrated: 3.56\n"
     ]
    }
   ],
   "source": [
    "# TDP\n",
    "ret_tdp1 = 1 - transmission_sigma_as_func_of_tau(tau, k=0.5, m=-0.5)\n",
    "ret_tdp2 = 1 - transmission_sigma_as_func_of_tau(tau, k=0.2, m=-0.5)\n",
    "print(\"Original:  \", np.round(100 * ret_tdp1.mean(), 2))\n",
    "print(\"Calibrated:\", np.round(100 * ret_tdp2.mean(), 2))"
   ]
  },
  {
   "cell_type": "code",
   "execution_count": 5,
   "id": "e57ebee7-a263-4ef9-b774-508c6624d0c7",
   "metadata": {},
   "outputs": [
    {
     "name": "stdout",
     "output_type": "stream",
     "text": [
      "Original:   21.73\n",
      "Calibrated: 27.92\n"
     ]
    }
   ],
   "source": [
    "# TPP\n",
    "ret_tpp1 = 1 - transmission_sigma_as_func_of_tau(tau, k=2, m=-0.5)\n",
    "ret_tpp2 = 1 - transmission_sigma_as_func_of_tau(tau, k=3, m=-0.5)\n",
    "print(\"Original:  \", np.round(100 * ret_tpp1.mean(), 2))\n",
    "print(\"Calibrated:\", np.round(100 * ret_tpp2.mean(), 2))"
   ]
  },
  {
   "cell_type": "code",
   "execution_count": 6,
   "id": "18dc9d7f-219c-41b2-9fbf-57b743a65ff5",
   "metadata": {},
   "outputs": [
    {
     "name": "stdout",
     "output_type": "stream",
     "text": [
      "Original:   13.44\n",
      "Calibrated: 13.44\n"
     ]
    }
   ],
   "source": [
    "# TOTP\n",
    "ret_totp1 = 1 - transmission_sigma_as_func_of_tau(tau, k=1, m=-0.5)\n",
    "ret_totp2 = 1 - transmission_sigma_as_func_of_tau(tau, k=1, m=-0.5)\n",
    "print(\"Original:  \", np.round(100 * ret_totp1.mean(), 2))\n",
    "print(\"Calibrated:\", np.round(100 * ret_totp2.mean(), 2))"
   ]
  },
  {
   "cell_type": "code",
   "execution_count": 7,
   "id": "46a26d91-ec3d-431c-9c8b-fd3279d0258d",
   "metadata": {},
   "outputs": [
    {
     "name": "stdout",
     "output_type": "stream",
     "text": [
      "Original:   4.69\n",
      "Calibrated: 5.83\n"
     ]
    }
   ],
   "source": [
    "# DIN\n",
    "ret_din1 = 1 - transmission_sigma_as_func_of_depth(H, s=6)\n",
    "ret_din2 = 1 - transmission_sigma_as_func_of_depth(H, s=8)\n",
    "print(\"Original:  \", np.round(100 * ret_din1.mean(), 2))\n",
    "print(\"Calibrated:\", np.round(100 * ret_din2.mean(), 2))"
   ]
  },
  {
   "cell_type": "code",
   "execution_count": 8,
   "id": "99091a99-79ad-47ce-9cb1-76af68198daa",
   "metadata": {},
   "outputs": [
    {
     "name": "stdout",
     "output_type": "stream",
     "text": [
      "Original:   1.4\n",
      "Calibrated: 2.69\n"
     ]
    }
   ],
   "source": [
    "# TON\n",
    "ret_ton1 = 1 - transmission_sigma_as_func_of_depth(H, s=1.4)\n",
    "ret_ton2 = 1 - transmission_sigma_as_func_of_depth(H, s=3)\n",
    "print(\"Original:  \", np.round(100 * ret_ton1.mean(), 2))\n",
    "print(\"Calibrated:\", np.round(100 * ret_ton2.mean(), 2))"
   ]
  },
  {
   "cell_type": "code",
   "execution_count": 9,
   "id": "8046cf62-f222-4936-9e41-b7ab367ddd56",
   "metadata": {},
   "outputs": [
    {
     "name": "stdout",
     "output_type": "stream",
     "text": [
      "Original:   3.75\n",
      "Calibrated: 4.69\n"
     ]
    }
   ],
   "source": [
    "# TOTN\n",
    "ret_totn1 = 1 - transmission_sigma_as_func_of_depth(H, s=4.5)\n",
    "ret_totn2 = 1 - transmission_sigma_as_func_of_depth(H, s=6)\n",
    "print(\"Original:  \", np.round(100 * ret_totn1.mean(), 2))\n",
    "print(\"Calibrated:\", np.round(100 * ret_totn2.mean(), 2))"
   ]
  },
  {
   "cell_type": "code",
   "execution_count": 10,
   "id": "bfd180ab-cdd8-46bc-8bad-231fbb6db95a",
   "metadata": {},
   "outputs": [
    {
     "name": "stdout",
     "output_type": "stream",
     "text": [
      "Original:   11.57\n",
      "Calibrated: 8.27\n"
     ]
    }
   ],
   "source": [
    "# TOC\n",
    "ret_toc1 = 1 - transmission_sigma_as_func_of_tau(tau, k=0.6, m=-0.6)\n",
    "ret_toc2 = 1 - transmission_sigma_as_func_of_tau(tau, k=0.4, m=-0.6)\n",
    "print(\"Original:  \", np.round(100 * ret_toc1.mean(), 2))\n",
    "print(\"Calibrated:\", np.round(100 * ret_toc2.mean(), 2))"
   ]
  },
  {
   "cell_type": "code",
   "execution_count": 11,
   "id": "3b673b83-1f03-4c0f-8f28-c49f5a1294f5",
   "metadata": {},
   "outputs": [
    {
     "name": "stdout",
     "output_type": "stream",
     "text": [
      "Original:   48.48\n",
      "Calibrated: 42.47\n"
     ]
    }
   ],
   "source": [
    "# SS\n",
    "ret_ss1 = 1 - transmission_sigma_constant(tau, sigma=90)\n",
    "ret_ss2 = 1 - transmission_sigma_constant(tau, sigma=60)\n",
    "print(\"Original:  \", np.round(100 * ret_ss1.mean(), 2))\n",
    "print(\"Calibrated:\", np.round(100 * ret_ss2.mean(), 2))"
   ]
  }
 ],
 "metadata": {
  "kernelspec": {
   "display_name": "Python 3 (ipykernel)",
   "language": "python",
   "name": "python3"
  },
  "language_info": {
   "codemirror_mode": {
    "name": "ipython",
    "version": 3
   },
   "file_extension": ".py",
   "mimetype": "text/x-python",
   "name": "python",
   "nbconvert_exporter": "python",
   "pygments_lexer": "ipython3",
   "version": "3.11.6"
  }
 },
 "nbformat": 4,
 "nbformat_minor": 5
}
