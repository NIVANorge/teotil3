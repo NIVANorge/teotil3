{
 "cells": [
  {
   "cell_type": "code",
   "execution_count": 1,
   "id": "19e0840d-ea45-4838-ad01-c5e55e931bf5",
   "metadata": {
    "tags": []
   },
   "outputs": [],
   "source": [
    "# # Run this and then restart the kernel at the start of each session to install\n",
    "# # 'teotil3' in development mode\n",
    "# !pip install -e /home/jovyan/projects/teotil3/"
   ]
  },
  {
   "cell_type": "code",
   "execution_count": 2,
   "id": "9586eef1-f888-40d1-882f-c2689eedabe7",
   "metadata": {
    "tags": []
   },
   "outputs": [],
   "source": [
    "import nivapy3 as nivapy\n",
    "import pandas as pd\n",
    "import teotil3 as teo"
   ]
  },
  {
   "cell_type": "code",
   "execution_count": 3,
   "id": "d1d3a13d-e618-40b7-b295-460a2f1965c5",
   "metadata": {
    "tags": []
   },
   "outputs": [
    {
     "name": "stdout",
     "output_type": "stream",
     "text": [
      "Connection successful.\n"
     ]
    }
   ],
   "source": [
    "eng = nivapy.da.connect_postgis()"
   ]
  },
  {
   "cell_type": "code",
   "execution_count": 4,
   "id": "d874ef7f-9060-4e1a-a323-ae2b977ca1d0",
   "metadata": {
    "tags": []
   },
   "outputs": [
    {
     "data": {
      "text/html": [
       "<div>\n",
       "<style scoped>\n",
       "    .dataframe tbody tr th:only-of-type {\n",
       "        vertical-align: middle;\n",
       "    }\n",
       "\n",
       "    .dataframe tbody tr th {\n",
       "        vertical-align: top;\n",
       "    }\n",
       "\n",
       "    .dataframe thead th {\n",
       "        text-align: right;\n",
       "    }\n",
       "</style>\n",
       "<table border=\"1\" class=\"dataframe\">\n",
       "  <thead>\n",
       "    <tr style=\"text-align: right;\">\n",
       "      <th></th>\n",
       "      <th>regine</th>\n",
       "      <th>runoff_1990_mm/yr</th>\n",
       "      <th>runoff_1991_mm/yr</th>\n",
       "      <th>runoff_1992_mm/yr</th>\n",
       "      <th>runoff_1993_mm/yr</th>\n",
       "      <th>runoff_1994_mm/yr</th>\n",
       "      <th>runoff_1995_mm/yr</th>\n",
       "      <th>runoff_1996_mm/yr</th>\n",
       "      <th>runoff_1997_mm/yr</th>\n",
       "      <th>runoff_1998_mm/yr</th>\n",
       "      <th>...</th>\n",
       "      <th>runoff_2013_mm/yr</th>\n",
       "      <th>runoff_2014_mm/yr</th>\n",
       "      <th>runoff_2015_mm/yr</th>\n",
       "      <th>runoff_2016_mm/yr</th>\n",
       "      <th>runoff_2017_mm/yr</th>\n",
       "      <th>runoff_2018_mm/yr</th>\n",
       "      <th>runoff_2019_mm/yr</th>\n",
       "      <th>runoff_2020_mm/yr</th>\n",
       "      <th>runoff_2021_mm/yr</th>\n",
       "      <th>runoff_2022_mm/yr</th>\n",
       "    </tr>\n",
       "  </thead>\n",
       "  <tbody>\n",
       "    <tr>\n",
       "      <th>0</th>\n",
       "      <td>001.10</td>\n",
       "      <td>547</td>\n",
       "      <td>479</td>\n",
       "      <td>497</td>\n",
       "      <td>462</td>\n",
       "      <td>664</td>\n",
       "      <td>637</td>\n",
       "      <td>421</td>\n",
       "      <td>424</td>\n",
       "      <td>537</td>\n",
       "      <td>...</td>\n",
       "      <td>532</td>\n",
       "      <td>794</td>\n",
       "      <td>729</td>\n",
       "      <td>446</td>\n",
       "      <td>415</td>\n",
       "      <td>521</td>\n",
       "      <td>703</td>\n",
       "      <td>691</td>\n",
       "      <td>448</td>\n",
       "      <td>374</td>\n",
       "    </tr>\n",
       "    <tr>\n",
       "      <th>1</th>\n",
       "      <td>001.1A1</td>\n",
       "      <td>573</td>\n",
       "      <td>501</td>\n",
       "      <td>520</td>\n",
       "      <td>484</td>\n",
       "      <td>695</td>\n",
       "      <td>667</td>\n",
       "      <td>441</td>\n",
       "      <td>444</td>\n",
       "      <td>562</td>\n",
       "      <td>...</td>\n",
       "      <td>558</td>\n",
       "      <td>832</td>\n",
       "      <td>764</td>\n",
       "      <td>467</td>\n",
       "      <td>434</td>\n",
       "      <td>546</td>\n",
       "      <td>736</td>\n",
       "      <td>724</td>\n",
       "      <td>469</td>\n",
       "      <td>392</td>\n",
       "    </tr>\n",
       "    <tr>\n",
       "      <th>2</th>\n",
       "      <td>001.1A20</td>\n",
       "      <td>549</td>\n",
       "      <td>480</td>\n",
       "      <td>498</td>\n",
       "      <td>464</td>\n",
       "      <td>666</td>\n",
       "      <td>639</td>\n",
       "      <td>422</td>\n",
       "      <td>425</td>\n",
       "      <td>539</td>\n",
       "      <td>...</td>\n",
       "      <td>534</td>\n",
       "      <td>797</td>\n",
       "      <td>732</td>\n",
       "      <td>447</td>\n",
       "      <td>416</td>\n",
       "      <td>523</td>\n",
       "      <td>705</td>\n",
       "      <td>694</td>\n",
       "      <td>449</td>\n",
       "      <td>375</td>\n",
       "    </tr>\n",
       "    <tr>\n",
       "      <th>3</th>\n",
       "      <td>001.1A2A</td>\n",
       "      <td>588</td>\n",
       "      <td>515</td>\n",
       "      <td>534</td>\n",
       "      <td>497</td>\n",
       "      <td>714</td>\n",
       "      <td>685</td>\n",
       "      <td>453</td>\n",
       "      <td>456</td>\n",
       "      <td>578</td>\n",
       "      <td>...</td>\n",
       "      <td>573</td>\n",
       "      <td>855</td>\n",
       "      <td>785</td>\n",
       "      <td>480</td>\n",
       "      <td>446</td>\n",
       "      <td>561</td>\n",
       "      <td>756</td>\n",
       "      <td>744</td>\n",
       "      <td>482</td>\n",
       "      <td>402</td>\n",
       "    </tr>\n",
       "    <tr>\n",
       "      <th>4</th>\n",
       "      <td>001.1A2B</td>\n",
       "      <td>588</td>\n",
       "      <td>515</td>\n",
       "      <td>534</td>\n",
       "      <td>497</td>\n",
       "      <td>714</td>\n",
       "      <td>685</td>\n",
       "      <td>453</td>\n",
       "      <td>456</td>\n",
       "      <td>578</td>\n",
       "      <td>...</td>\n",
       "      <td>573</td>\n",
       "      <td>855</td>\n",
       "      <td>785</td>\n",
       "      <td>480</td>\n",
       "      <td>446</td>\n",
       "      <td>561</td>\n",
       "      <td>756</td>\n",
       "      <td>744</td>\n",
       "      <td>482</td>\n",
       "      <td>402</td>\n",
       "    </tr>\n",
       "  </tbody>\n",
       "</table>\n",
       "<p>5 rows × 34 columns</p>\n",
       "</div>"
      ],
      "text/plain": [
       "     regine  runoff_1990_mm/yr  runoff_1991_mm/yr  runoff_1992_mm/yr  \\\n",
       "0    001.10                547                479                497   \n",
       "1   001.1A1                573                501                520   \n",
       "2  001.1A20                549                480                498   \n",
       "3  001.1A2A                588                515                534   \n",
       "4  001.1A2B                588                515                534   \n",
       "\n",
       "   runoff_1993_mm/yr  runoff_1994_mm/yr  runoff_1995_mm/yr  runoff_1996_mm/yr  \\\n",
       "0                462                664                637                421   \n",
       "1                484                695                667                441   \n",
       "2                464                666                639                422   \n",
       "3                497                714                685                453   \n",
       "4                497                714                685                453   \n",
       "\n",
       "   runoff_1997_mm/yr  runoff_1998_mm/yr  ...  runoff_2013_mm/yr  \\\n",
       "0                424                537  ...                532   \n",
       "1                444                562  ...                558   \n",
       "2                425                539  ...                534   \n",
       "3                456                578  ...                573   \n",
       "4                456                578  ...                573   \n",
       "\n",
       "   runoff_2014_mm/yr  runoff_2015_mm/yr  runoff_2016_mm/yr  runoff_2017_mm/yr  \\\n",
       "0                794                729                446                415   \n",
       "1                832                764                467                434   \n",
       "2                797                732                447                416   \n",
       "3                855                785                480                446   \n",
       "4                855                785                480                446   \n",
       "\n",
       "   runoff_2018_mm/yr  runoff_2019_mm/yr  runoff_2020_mm/yr  runoff_2021_mm/yr  \\\n",
       "0                521                703                691                448   \n",
       "1                546                736                724                469   \n",
       "2                523                705                694                449   \n",
       "3                561                756                744                482   \n",
       "4                561                756                744                482   \n",
       "\n",
       "   runoff_2022_mm/yr  \n",
       "0                374  \n",
       "1                392  \n",
       "2                375  \n",
       "3                402  \n",
       "4                402  \n",
       "\n",
       "[5 rows x 34 columns]"
      ]
     },
     "execution_count": 4,
     "metadata": {},
     "output_type": "execute_result"
    }
   ],
   "source": [
    "nve_data_year = 2023\n",
    "st_yr, end_yr = 1990, 2022\n",
    "years = range(st_yr, end_yr + 1)\n",
    "\n",
    "df_list = []\n",
    "for year in years:\n",
    "    reg_gdf = teo.io.get_regine_geodataframe(eng, year)\n",
    "    reg_gdf = teo.io.rescale_annual_flows(reg_gdf, nve_data_year, year, eng)\n",
    "    reg_df = pd.DataFrame(reg_gdf[[\"regine\", \"runoff_mm/yr\"]])\n",
    "    reg_df.columns = [\"regine\", f\"runoff_{year}_mm/yr\"]\n",
    "    reg_df.set_index(\"regine\", inplace=True)\n",
    "    df_list.append(reg_df)\n",
    "\n",
    "df = pd.concat(df_list, axis=\"columns\").reset_index()\n",
    "\n",
    "out_csv = f\"../../data/regine_annual_runoff_nve{nve_data_year}.csv\"\n",
    "df.to_csv(out_csv, index=False)\n",
    "\n",
    "df.head()"
   ]
  },
  {
   "cell_type": "code",
   "execution_count": 5,
   "id": "fbfad206-e705-4084-ad18-fb82a8f1f1b7",
   "metadata": {
    "tags": []
   },
   "outputs": [
    {
     "data": {
      "text/plain": [
       "<Axes: >"
      ]
     },
     "execution_count": 5,
     "metadata": {},
     "output_type": "execute_result"
    },
    {
     "data": {
      "image/png": "[encoded data removed]",
      "text/plain": [
       "<Figure size 640x480 with 1 Axes>"
      ]
     },
     "metadata": {},
     "output_type": "display_data"
    }
   ],
   "source": [
    "reg_gdf[\"runoff_valid\"] = reg_gdf[\"runoff_mm/yr\"] > 0\n",
    "reg_gdf.plot(column=\"runoff_valid\", categorical=True, cmap=\"magma\")"
   ]
  }
 ],
 "metadata": {
  "kernelspec": {
   "display_name": "Python 3 (ipykernel)",
   "language": "python",
   "name": "python3"
  },
  "language_info": {
   "codemirror_mode": {
    "name": "ipython",
    "version": 3
   },
   "file_extension": ".py",
   "mimetype": "text/x-python",
   "name": "python",
   "nbconvert_exporter": "python",
   "pygments_lexer": "ipython3",
   "version": "3.10.11"
  }
 },
 "nbformat": 4,
 "nbformat_minor": 5
}
