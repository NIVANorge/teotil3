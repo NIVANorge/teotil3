{
 "cells": [
  {
   "cell_type": "code",
   "execution_count": 1,
   "id": "f53bc542-122c-45b7-ad47-a0f885d37987",
   "metadata": {
    "extensions": {
     "jupyter_dashboards": {
      "activeView": "grid_default",
      "views": {
       "grid_default": {
        "col": null,
        "height": 2,
        "hidden": true,
        "locked": true,
        "row": null,
        "width": 2
       }
      }
     }
    }
   },
   "outputs": [],
   "source": [
    "import glob\n",
    "import os\n",
    "\n",
    "import geopandas as gpd\n",
    "import nivapy3 as nivapy\n",
    "import pandas as pd\n",
    "from sqlalchemy import text\n",
    "from tqdm.notebook import tqdm"
   ]
  },
  {
   "cell_type": "markdown",
   "id": "8247a04e-8f30-4117-8694-d8e6b0247b4d",
   "metadata": {
    "extensions": {
     "jupyter_dashboards": {
      "activeView": "grid_default",
      "views": {
       "grid_default": {
        "col": null,
        "height": 2,
        "hidden": true,
        "locked": true,
        "row": null,
        "width": 2
       }
      }
     }
    }
   },
   "source": [
    "# Create PostGIS database for TEOTIL3\n",
    "\n",
    "To streamline the workflow for TEOTIL3, I propose migrating all key datasets from Oracle to the Hub's PostGIS database. The code in this notebook creates a new schema named `teotil3` within the `general` database and loads relevant datasets to PostGIS."
   ]
  },
  {
   "cell_type": "code",
   "execution_count": 2,
   "id": "2f7bdd5b-2c89-4a9f-8173-522ea5a3f483",
   "metadata": {
    "extensions": {
     "jupyter_dashboards": {
      "activeView": "grid_default",
      "views": {
       "grid_default": {
        "col": null,
        "height": 2,
        "hidden": true,
        "locked": true,
        "row": null,
        "width": 2
       }
      }
     }
    }
   },
   "outputs": [
    {
     "name": "stdin",
     "output_type": "stream",
     "text": [
      "Username:  ········\n",
      "Password:  ········\n"
     ]
    },
    {
     "name": "stdout",
     "output_type": "stream",
     "text": [
      "Connection successful.\n"
     ]
    }
   ],
   "source": [
    "# Connect to PostGIS\n",
    "eng = nivapy.da.connect_postgis(admin=True)"
   ]
  },
  {
   "cell_type": "markdown",
   "id": "4fa32557-f857-4a2d-8f7d-3d4592d6ef82",
   "metadata": {
    "extensions": {
     "jupyter_dashboards": {
      "activeView": "grid_default",
      "views": {
       "grid_default": {
        "col": null,
        "height": 2,
        "hidden": true,
        "locked": true,
        "row": null,
        "width": 2
       }
      }
     }
    }
   },
   "source": [
    "## 1. Create schema and set permissions"
   ]
  },
  {
   "cell_type": "code",
   "execution_count": 3,
   "id": "ed69b987-f7c4-4ece-b6e6-feeed4a3fa1a",
   "metadata": {
    "extensions": {
     "jupyter_dashboards": {
      "activeView": "grid_default",
      "views": {
       "grid_default": {
        "col": null,
        "height": 2,
        "hidden": true,
        "locked": true,
        "row": null,
        "width": 2
       }
      }
     }
    }
   },
   "outputs": [
    {
     "name": "stderr",
     "output_type": "stream",
     "text": [
      "/tmp/ipykernel_7190/2819351708.py:3: RemovedIn20Warning: Deprecated API features detected! These feature(s) are not compatible with SQLAlchemy 2.0. To prevent incompatible upgrades prior to updating applications, ensure requirements files are pinned to \"sqlalchemy<2.0\". Set environment variable SQLALCHEMY_WARN_20=1 to show all deprecation warnings.  Set environment variable SQLALCHEMY_SILENCE_UBER_WARNING=1 to silence this message. (Background on SQLAlchemy 2.0 at: https://sqlalche.me/e/b8d9)\n",
      "  eng.execute(sql)\n"
     ]
    },
    {
     "data": {
      "text/plain": [
       "<sqlalchemy.engine.cursor.LegacyCursorResult at 0x7825f1540460>"
      ]
     },
     "execution_count": 3,
     "metadata": {},
     "output_type": "execute_result"
    }
   ],
   "source": [
    "# Drop schema if it already exists - USE WITH CAUTION!\n",
    "sql = \"DROP SCHEMA teotil3 CASCADE\"\n",
    "eng.execute(sql)"
   ]
  },
  {
   "cell_type": "code",
   "execution_count": 4,
   "id": "3226f125-684d-4883-878b-69f379454950",
   "metadata": {
    "extensions": {
     "jupyter_dashboards": {
      "activeView": "grid_default",
      "views": {
       "grid_default": {
        "col": null,
        "height": 2,
        "hidden": true,
        "locked": true,
        "row": null,
        "width": 2
       }
      }
     }
    }
   },
   "outputs": [
    {
     "data": {
      "text/plain": [
       "<sqlalchemy.engine.cursor.LegacyCursorResult at 0x7825f16722f0>"
      ]
     },
     "execution_count": 4,
     "metadata": {},
     "output_type": "execute_result"
    }
   ],
   "source": [
    "# Create schema\n",
    "sql = \"CREATE SCHEMA IF NOT EXISTS teotil3\"\n",
    "eng.execute(sql)"
   ]
  },
  {
   "cell_type": "code",
   "execution_count": 5,
   "id": "3bffb436-68ac-4524-9ffa-f4756b905a7f",
   "metadata": {
    "extensions": {
     "jupyter_dashboards": {
      "activeView": "grid_default",
      "views": {
       "grid_default": {
        "col": null,
        "height": 2,
        "hidden": true,
        "locked": true,
        "row": null,
        "width": 2
       }
      }
     }
    }
   },
   "outputs": [],
   "source": [
    "# Grant \"ReadOnly\" privileges to default Jovyan user\n",
    "sql_list = [\n",
    "    \"GRANT USAGE ON SCHEMA teotil3 TO jovyan\",\n",
    "    \"GRANT SELECT ON ALL TABLES IN SCHEMA teotil3 TO jovyan\",\n",
    "    \"ALTER DEFAULT PRIVILEGES IN SCHEMA teotil3 GRANT SELECT ON TABLES TO jovyan\",\n",
    "]\n",
    "for sql in sql_list:\n",
    "    eng.execute(sql)"
   ]
  },
  {
   "cell_type": "markdown",
   "id": "c696444b-b99f-4580-a289-e445ef5fcc3e",
   "metadata": {
    "extensions": {
     "jupyter_dashboards": {
      "activeView": "grid_default",
      "views": {
       "grid_default": {
        "col": null,
        "height": 2,
        "hidden": true,
        "locked": true,
        "row": null,
        "width": 2
       }
      }
     }
    }
   },
   "source": [
    "## 2. Spatial tables"
   ]
  },
  {
   "cell_type": "code",
   "execution_count": 6,
   "id": "0db1cb5d-153a-4acf-b8a7-636ca356cd30",
   "metadata": {
    "extensions": {
     "jupyter_dashboards": {
      "activeView": "grid_default",
      "views": {
       "grid_default": {
        "col": null,
        "height": 2,
        "hidden": true,
        "locked": true,
        "row": null,
        "width": 2
       }
      }
     }
    },
    "tags": []
   },
   "outputs": [
    {
     "data": {
      "text/html": [
       "<div>\n",
       "<style scoped>\n",
       "    .dataframe tbody tr th:only-of-type {\n",
       "        vertical-align: middle;\n",
       "    }\n",
       "\n",
       "    .dataframe tbody tr th {\n",
       "        vertical-align: top;\n",
       "    }\n",
       "\n",
       "    .dataframe thead th {\n",
       "        text-align: right;\n",
       "    }\n",
       "</style>\n",
       "<table border=\"1\" class=\"dataframe\">\n",
       "  <thead>\n",
       "    <tr style=\"text-align: right;\">\n",
       "      <th></th>\n",
       "      <th>regine</th>\n",
       "      <th>vassom</th>\n",
       "      <th>a_cat_poly_km2</th>\n",
       "      <th>upstr_a_km2</th>\n",
       "      <th>ospar_region</th>\n",
       "      <th>komnr_2014</th>\n",
       "      <th>fylnr_2014</th>\n",
       "      <th>komnr_2015</th>\n",
       "      <th>fylnr_2015</th>\n",
       "      <th>komnr_2016</th>\n",
       "      <th>...</th>\n",
       "      <th>a_sea_km2</th>\n",
       "      <th>a_upland_km2</th>\n",
       "      <th>a_urban_km2</th>\n",
       "      <th>a_wood_km2</th>\n",
       "      <th>ar50_tot_a_km2</th>\n",
       "      <th>a_cat_land_km2</th>\n",
       "      <th>a_lake_nve_km2</th>\n",
       "      <th>runoff_mm/yr</th>\n",
       "      <th>q_cat_m3/s</th>\n",
       "      <th>geometry</th>\n",
       "    </tr>\n",
       "  </thead>\n",
       "  <tbody>\n",
       "    <tr>\n",
       "      <th>0</th>\n",
       "      <td>001.10</td>\n",
       "      <td>001</td>\n",
       "      <td>1.442790</td>\n",
       "      <td>0.00</td>\n",
       "      <td>Skagerrak</td>\n",
       "      <td>0101</td>\n",
       "      <td>01</td>\n",
       "      <td>0101</td>\n",
       "      <td>01</td>\n",
       "      <td>0101</td>\n",
       "      <td>...</td>\n",
       "      <td>0.281940</td>\n",
       "      <td>0.000000</td>\n",
       "      <td>0.000000</td>\n",
       "      <td>0.849188</td>\n",
       "      <td>0.849201</td>\n",
       "      <td>1.160850</td>\n",
       "      <td>0.000000</td>\n",
       "      <td>592</td>\n",
       "      <td>0.02178</td>\n",
       "      <td>POLYGON ((297006.830 6543966.950, 297169.290 6...</td>\n",
       "    </tr>\n",
       "    <tr>\n",
       "      <th>1</th>\n",
       "      <td>001.1A1</td>\n",
       "      <td>001</td>\n",
       "      <td>1.432479</td>\n",
       "      <td>777.90</td>\n",
       "      <td>Skagerrak</td>\n",
       "      <td>0101</td>\n",
       "      <td>01</td>\n",
       "      <td>0101</td>\n",
       "      <td>01</td>\n",
       "      <td>0101</td>\n",
       "      <td>...</td>\n",
       "      <td>0.000067</td>\n",
       "      <td>0.004615</td>\n",
       "      <td>0.000000</td>\n",
       "      <td>1.377476</td>\n",
       "      <td>1.430189</td>\n",
       "      <td>1.432412</td>\n",
       "      <td>0.043955</td>\n",
       "      <td>620</td>\n",
       "      <td>0.02814</td>\n",
       "      <td>POLYGON ((297505.440 6543157.790, 297543.100 6...</td>\n",
       "    </tr>\n",
       "    <tr>\n",
       "      <th>2</th>\n",
       "      <td>001.1A20</td>\n",
       "      <td>001</td>\n",
       "      <td>0.340160</td>\n",
       "      <td>777.90</td>\n",
       "      <td>Skagerrak</td>\n",
       "      <td>0101</td>\n",
       "      <td>01</td>\n",
       "      <td>0101</td>\n",
       "      <td>01</td>\n",
       "      <td>0101</td>\n",
       "      <td>...</td>\n",
       "      <td>0.000045</td>\n",
       "      <td>0.000000</td>\n",
       "      <td>0.000000</td>\n",
       "      <td>0.303492</td>\n",
       "      <td>0.340114</td>\n",
       "      <td>0.340114</td>\n",
       "      <td>0.000000</td>\n",
       "      <td>594</td>\n",
       "      <td>0.00640</td>\n",
       "      <td>POLYGON ((297770.368 6543429.036, 297787.114 6...</td>\n",
       "    </tr>\n",
       "    <tr>\n",
       "      <th>3</th>\n",
       "      <td>001.1A2A</td>\n",
       "      <td>001</td>\n",
       "      <td>17.647822</td>\n",
       "      <td>58.96</td>\n",
       "      <td>Skagerrak</td>\n",
       "      <td>0101</td>\n",
       "      <td>01</td>\n",
       "      <td>0101</td>\n",
       "      <td>01</td>\n",
       "      <td>0101</td>\n",
       "      <td>...</td>\n",
       "      <td>0.000000</td>\n",
       "      <td>0.467374</td>\n",
       "      <td>0.131585</td>\n",
       "      <td>15.030746</td>\n",
       "      <td>17.647822</td>\n",
       "      <td>17.647822</td>\n",
       "      <td>0.186340</td>\n",
       "      <td>637</td>\n",
       "      <td>0.35623</td>\n",
       "      <td>POLYGON ((299678.370 6544460.320, 299667.220 6...</td>\n",
       "    </tr>\n",
       "    <tr>\n",
       "      <th>4</th>\n",
       "      <td>001.1A2B</td>\n",
       "      <td>001</td>\n",
       "      <td>41.298255</td>\n",
       "      <td>41.30</td>\n",
       "      <td>Skagerrak</td>\n",
       "      <td>0101</td>\n",
       "      <td>01</td>\n",
       "      <td>0101</td>\n",
       "      <td>01</td>\n",
       "      <td>0101</td>\n",
       "      <td>...</td>\n",
       "      <td>0.000000</td>\n",
       "      <td>2.250799</td>\n",
       "      <td>0.161524</td>\n",
       "      <td>29.798394</td>\n",
       "      <td>41.298255</td>\n",
       "      <td>41.298255</td>\n",
       "      <td>7.344123</td>\n",
       "      <td>637</td>\n",
       "      <td>0.83362</td>\n",
       "      <td>POLYGON ((303353.460 6552989.330, 303341.620 6...</td>\n",
       "    </tr>\n",
       "  </tbody>\n",
       "</table>\n",
       "<p>5 rows × 39 columns</p>\n",
       "</div>"
      ],
      "text/plain": [
       "     regine vassom  a_cat_poly_km2  upstr_a_km2 ospar_region komnr_2014  \\\n",
       "0    001.10    001        1.442790         0.00    Skagerrak       0101   \n",
       "1   001.1A1    001        1.432479       777.90    Skagerrak       0101   \n",
       "2  001.1A20    001        0.340160       777.90    Skagerrak       0101   \n",
       "3  001.1A2A    001       17.647822        58.96    Skagerrak       0101   \n",
       "4  001.1A2B    001       41.298255        41.30    Skagerrak       0101   \n",
       "\n",
       "  fylnr_2014 komnr_2015 fylnr_2015 komnr_2016  ... a_sea_km2 a_upland_km2  \\\n",
       "0         01       0101         01       0101  ...  0.281940     0.000000   \n",
       "1         01       0101         01       0101  ...  0.000067     0.004615   \n",
       "2         01       0101         01       0101  ...  0.000045     0.000000   \n",
       "3         01       0101         01       0101  ...  0.000000     0.467374   \n",
       "4         01       0101         01       0101  ...  0.000000     2.250799   \n",
       "\n",
       "  a_urban_km2 a_wood_km2 ar50_tot_a_km2 a_cat_land_km2 a_lake_nve_km2  \\\n",
       "0    0.000000   0.849188       0.849201       1.160850       0.000000   \n",
       "1    0.000000   1.377476       1.430189       1.432412       0.043955   \n",
       "2    0.000000   0.303492       0.340114       0.340114       0.000000   \n",
       "3    0.131585  15.030746      17.647822      17.647822       0.186340   \n",
       "4    0.161524  29.798394      41.298255      41.298255       7.344123   \n",
       "\n",
       "  runoff_mm/yr q_cat_m3/s                                           geometry  \n",
       "0          592    0.02178  POLYGON ((297006.830 6543966.950, 297169.290 6...  \n",
       "1          620    0.02814  POLYGON ((297505.440 6543157.790, 297543.100 6...  \n",
       "2          594    0.00640  POLYGON ((297770.368 6543429.036, 297787.114 6...  \n",
       "3          637    0.35623  POLYGON ((299678.370 6544460.320, 299667.220 6...  \n",
       "4          637    0.83362  POLYGON ((303353.460 6552989.330, 303341.620 6...  \n",
       "\n",
       "[5 rows x 39 columns]"
      ]
     },
     "execution_count": 6,
     "metadata": {},
     "output_type": "execute_result"
    }
   ],
   "source": [
    "spatial_data_fold = f\"/home/jovyan/shared/common/teotil3/core_data\"\n",
    "teo_gpkg = os.path.join(spatial_data_fold, \"tidied\", f\"teotil3_data.gpkg\")\n",
    "reg_gdf = gpd.read_file(teo_gpkg, layer=f\"regines\", driver=\"GPKG\")\n",
    "reg_gdf.head()"
   ]
  },
  {
   "cell_type": "code",
   "execution_count": 7,
   "id": "bb3ba6f0-100f-4090-b469-7bea2bec10e7",
   "metadata": {
    "extensions": {
     "jupyter_dashboards": {
      "activeView": "grid_default",
      "views": {
       "grid_default": {
        "col": null,
        "height": 2,
        "hidden": true,
        "locked": true,
        "row": null,
        "width": 2
       }
      }
     }
    }
   },
   "outputs": [
    {
     "name": "stdout",
     "output_type": "stream",
     "text": [
      "WARNING! The dataframe contains mixed geometries:\n",
      "  {'MultiPolygon', 'Polygon'}\n",
      "These will be cast to \"Multi\" type. If this is not what you want, consider using gdf.explode() first\n"
     ]
    },
    {
     "data": {
      "text/plain": [
       "<sqlalchemy.engine.cursor.LegacyCursorResult at 0x7825d002bb20>"
      ]
     },
     "execution_count": 7,
     "metadata": {},
     "output_type": "execute_result"
    }
   ],
   "source": [
    "table_name = f\"regines\"\n",
    "\n",
    "nivapy.da.gdf_to_postgis(\n",
    "    reg_gdf,\n",
    "    table_name,\n",
    "    \"teotil3\",\n",
    "    eng,\n",
    "    f\"{table_name}_spidx\",\n",
    "    create_pk=False,\n",
    "    index=False,\n",
    "    if_exists=\"replace\",\n",
    ")\n",
    "\n",
    "sql = (\n",
    "    f\"ALTER TABLE teotil3.{table_name} \"\n",
    "    f\"ADD CONSTRAINT {table_name}_pk \"\n",
    "    f'PRIMARY KEY (\"regine\")'\n",
    ")\n",
    "eng.execute(sql)"
   ]
  },
  {
   "cell_type": "markdown",
   "id": "9edfde49-f97e-4aa3-afa7-898c4dd15de6",
   "metadata": {
    "extensions": {
     "jupyter_dashboards": {
      "activeView": "grid_default",
      "views": {
       "grid_default": {
        "col": null,
        "height": 2,
        "hidden": true,
        "locked": true,
        "row": null,
        "width": 2
       }
      }
     }
    }
   },
   "source": [
    "## 3. Non-spatial tables\n",
    "\n",
    "### 3.1. Basic tables"
   ]
  },
  {
   "cell_type": "code",
   "execution_count": 8,
   "id": "085697cf-21c5-40e8-ad22-61238848f7b6",
   "metadata": {
    "extensions": {
     "jupyter_dashboards": {
      "activeView": "grid_default",
      "views": {
       "grid_default": {
        "col": null,
        "height": 2,
        "hidden": true,
        "locked": true,
        "row": null,
        "width": 2
       }
      }
     }
    }
   },
   "outputs": [
    {
     "data": {
      "text/plain": [
       "<sqlalchemy.engine.cursor.LegacyCursorResult at 0x78255ca9e800>"
      ]
     },
     "execution_count": 8,
     "metadata": {},
     "output_type": "execute_result"
    }
   ],
   "source": [
    "# point_source_locations\n",
    "sql = text(\"DROP TABLE IF EXISTS teotil3.point_source_locations CASCADE\")\n",
    "eng.execute(sql)\n",
    "\n",
    "sql = text(\n",
    "    \"CREATE TABLE teotil3.point_source_locations \"\n",
    "    \"( \"\n",
    "    \"  site_id text NOT NULL, \"\n",
    "    \"  name text NOT NULL, \"\n",
    "    \"  sector text NOT NULL, \"\n",
    "    \"  type text NOT NULL, \"\n",
    "    \"  year integer NOT NULL, \"\n",
    "    \"  site_geom geometry(Point, 25833) NOT NULL, \"\n",
    "    \"  outlet_geom geometry(Point, 25833) NOT NULL, \"\n",
    "    \"  PRIMARY KEY (site_id, year), \"\n",
    "    \"  CONSTRAINT site_unique UNIQUE (site_id, name, sector, type, year, outlet_geom) \"\n",
    "    \")\"\n",
    ")\n",
    "eng.execute(sql)\n",
    "\n",
    "# input_param_definitions\n",
    "sql = text(\"DROP TABLE IF EXISTS teotil3.input_param_definitions CASCADE\")\n",
    "eng.execute(sql)\n",
    "\n",
    "sql = text(\n",
    "    \"CREATE TABLE teotil3.input_param_definitions \"\n",
    "    \"( \"\n",
    "    \"  in_par_id integer NOT NULL, \"\n",
    "    \"  oracle_par_id integer, \"\n",
    "    \"  name text NOT NULL, \"\n",
    "    \"  unit text NOT NULL, \"\n",
    "    \"  comment text, \"\n",
    "    \"  PRIMARY KEY (in_par_id), \"\n",
    "    \"  CONSTRAINT in_par_unique UNIQUE (in_par_id, name, unit) \"\n",
    "    \")\"\n",
    ")\n",
    "eng.execute(sql)\n",
    "\n",
    "# output_param_definitions\n",
    "sql = text(\"DROP TABLE IF EXISTS teotil3.output_param_definitions CASCADE\")\n",
    "eng.execute(sql)\n",
    "\n",
    "sql = text(\n",
    "    \"CREATE TABLE teotil3.output_param_definitions \"\n",
    "    \"( \"\n",
    "    \"  out_par_id integer NOT NULL, \"\n",
    "    \"  name text NOT NULL, \"\n",
    "    \"  unit text NOT NULL, \"\n",
    "    \"  PRIMARY KEY (out_par_id), \"\n",
    "    \"  CONSTRAINT out_par_unique UNIQUE (out_par_id, name, unit) \"\n",
    "    \")\"\n",
    ")\n",
    "eng.execute(sql)\n",
    "\n",
    "# input_output_param_conversion\n",
    "sql = text(\"DROP TABLE IF EXISTS teotil3.input_output_param_conversion CASCADE\")\n",
    "eng.execute(sql)\n",
    "\n",
    "sql = text(\n",
    "    \"CREATE TABLE teotil3.input_output_param_conversion \"\n",
    "    \"( \"\n",
    "    \"  in_par_id integer NOT NULL, \"\n",
    "    \"  out_par_id integer NOT NULL, \"\n",
    "    \"  factor numeric NOT NULL, \"\n",
    "    \"  PRIMARY KEY (in_par_id, out_par_id), \"\n",
    "    \"  CONSTRAINT in_par_id_fkey FOREIGN KEY (in_par_id) \"\n",
    "    \"      REFERENCES teotil3.input_param_definitions (in_par_id), \"\n",
    "    \"  CONSTRAINT out_par_id_fkey FOREIGN KEY (out_par_id) \"\n",
    "    \"      REFERENCES teotil3.output_param_definitions (out_par_id) \"\n",
    "    \")\"\n",
    ")\n",
    "eng.execute(sql)\n",
    "\n",
    "# point_source_values\n",
    "sql = text(\"DROP TABLE IF EXISTS teotil3.point_source_values CASCADE\")\n",
    "eng.execute(sql)\n",
    "\n",
    "sql = text(\n",
    "    \"CREATE TABLE teotil3.point_source_values \"\n",
    "    \"( \"\n",
    "    \"  site_id text NOT NULL, \"\n",
    "    \"  in_par_id integer NOT NULL, \"\n",
    "    \"  year integer NOT NULL, \"\n",
    "    \"  value numeric NOT NULL, \"\n",
    "    \"  PRIMARY KEY (site_id, in_par_id, year), \"\n",
    "    \"  CONSTRAINT site_id_fkey FOREIGN KEY (site_id, year) \"\n",
    "    \"      REFERENCES teotil3.point_source_locations (site_id, year), \"\n",
    "    \"  CONSTRAINT in_par_id_fkey FOREIGN KEY (in_par_id) \"\n",
    "    \"      REFERENCES teotil3.input_param_definitions (in_par_id) \"\n",
    "    \")\"\n",
    ")\n",
    "eng.execute(sql)\n",
    "\n",
    "# spredt_inputs\n",
    "sql = text(\"DROP TABLE IF EXISTS teotil3.spredt_inputs CASCADE\")\n",
    "eng.execute(sql)\n",
    "\n",
    "sql = text(\n",
    "    \"CREATE TABLE teotil3.spredt_inputs \"\n",
    "    \"( \"\n",
    "    \"  komnr text NOT NULL, \"\n",
    "    \"  in_par_id integer NOT NULL, \"\n",
    "    \"  year integer NOT NULL, \"\n",
    "    \"  value numeric NOT NULL, \"\n",
    "    \"  PRIMARY KEY (komnr, in_par_id, year), \"\n",
    "    \"  CONSTRAINT in_par_id_fkey FOREIGN KEY (in_par_id) \"\n",
    "    \"      REFERENCES teotil3.input_param_definitions (in_par_id) \"\n",
    "    \")\"\n",
    ")\n",
    "eng.execute(sql)\n",
    "\n",
    "# agri_inputs\n",
    "sql = text(\"DROP TABLE IF EXISTS teotil3.agri_inputs CASCADE\")\n",
    "eng.execute(sql)\n",
    "\n",
    "sql = text(\n",
    "    \"CREATE TABLE teotil3.agri_inputs \"\n",
    "    \"( \"\n",
    "    \"  loss_type text NOT NULL, \"\n",
    "    \"  year integer NOT NULL, \"\n",
    "    \"  regine text NOT NULL, \"\n",
    "    \"  agriculture_totn_kg numeric NOT NULL, \"\n",
    "    \"  agriculture_background_totn_kg numeric NOT NULL, \"\n",
    "    \"  agriculture_din_kg numeric NOT NULL, \"\n",
    "    \"  agriculture_background_din_kg numeric NOT NULL, \"\n",
    "    \"  agriculture_ton_kg numeric NOT NULL, \"\n",
    "    \"  agriculture_background_ton_kg numeric NOT NULL, \"\n",
    "    \"  agriculture_totp_kg numeric NOT NULL, \"\n",
    "    \"  agriculture_background_totp_kg numeric NOT NULL, \"\n",
    "    \"  agriculture_tdp_kg numeric NOT NULL, \"\n",
    "    \"  agriculture_background_tdp_kg numeric NOT NULL, \"\n",
    "    \"  agriculture_tpp_kg numeric NOT NULL, \"\n",
    "    \"  agriculture_background_tpp_kg numeric NOT NULL, \"\n",
    "    \"  agriculture_toc_kg numeric NOT NULL, \"\n",
    "    \"  agriculture_background_toc_kg numeric NOT NULL, \"\n",
    "    \"  agriculture_ss_kg numeric NOT NULL, \"\n",
    "    \"  agriculture_background_ss_kg numeric NOT NULL, \"\n",
    "    \"  PRIMARY KEY (loss_type, year, regine), \"\n",
    "    \"  CONSTRAINT regine_fkey FOREIGN KEY (regine) \"\n",
    "    \"      REFERENCES teotil3.regines (regine) \"\n",
    "    \")\"\n",
    ")\n",
    "eng.execute(sql)"
   ]
  },
  {
   "cell_type": "code",
   "execution_count": 9,
   "id": "6f0fe271-16dd-4e5b-9d4f-3228101fc988",
   "metadata": {
    "extensions": {
     "jupyter_dashboards": {
      "activeView": "grid_default",
      "views": {
       "grid_default": {
        "col": null,
        "height": 2,
        "hidden": true,
        "locked": true,
        "row": null,
        "width": 2
       }
      }
     }
    }
   },
   "outputs": [
    {
     "data": {
      "text/plain": [
       "110"
      ]
     },
     "execution_count": 9,
     "metadata": {},
     "output_type": "execute_result"
    }
   ],
   "source": [
    "# input_param_definitions\n",
    "csv_path = r\"../../data/postgis_input_parameter_definitions.csv\"\n",
    "df = pd.read_csv(csv_path)\n",
    "df.to_sql(\n",
    "    \"input_param_definitions\", eng, schema=\"teotil3\", index=False, if_exists=\"append\"\n",
    ")\n",
    "\n",
    "# output_param_definitions\n",
    "csv_path = r\"../../data/postgis_output_parameter_definitions.csv\"\n",
    "df = pd.read_csv(csv_path)\n",
    "df.to_sql(\n",
    "    \"output_param_definitions\",\n",
    "    eng,\n",
    "    schema=\"teotil3\",\n",
    "    index=False,\n",
    "    if_exists=\"append\",\n",
    ")\n",
    "\n",
    "# input_output_param_conversion\n",
    "csv_path = r\"../../data/postgis_input_output_param_conversion.csv\"\n",
    "df = pd.read_csv(csv_path)\n",
    "df.dropna(how='any', inplace=True)\n",
    "df.to_sql(\n",
    "    \"input_output_param_conversion\",\n",
    "    eng,\n",
    "    schema=\"teotil3\",\n",
    "    index=False,\n",
    "    if_exists=\"append\",\n",
    ")"
   ]
  },
  {
   "cell_type": "markdown",
   "id": "c23dca64-f240-48fe-947b-6fd40e61adb5",
   "metadata": {
    "extensions": {
     "jupyter_dashboards": {
      "activeView": "grid_default",
      "views": {
       "grid_default": {
        "col": null,
        "height": 2,
        "hidden": true,
        "locked": true,
        "row": null,
        "width": 2
       }
      }
     }
    }
   },
   "source": [
    "### 3.2. Additional tables"
   ]
  },
  {
   "cell_type": "code",
   "execution_count": 10,
   "id": "0d2dac80-6c05-47f0-a764-c54ae3818a63",
   "metadata": {
    "extensions": {
     "jupyter_dashboards": {
      "activeView": "grid_default",
      "views": {
       "grid_default": {
        "col": null,
        "height": 2,
        "hidden": true,
        "locked": true,
        "row": null,
        "width": 2
       }
      }
     }
    }
   },
   "outputs": [],
   "source": [
    "# data_fold = r\"../../data\"\n",
    "# data_year = 2022\n",
    "\n",
    "# # key: value = table_name: primary key\n",
    "# csv_dict = {\n",
    "#     \"ar50_artype_classes.csv\": \"artype\",\n",
    "#     \"lake_residence_times_10m_dem.csv\": \"vatnLnr\",\n",
    "#     \"offshore_hierarchy.csv\": \"regine\",\n",
    "#     \"regine_retention_transmission_10m_dem.csv\": \"regine\",\n",
    "#     \"spatially_static_background_coefficients.csv\": \"variable\",\n",
    "#     \"spatially_variable_background_coefficients.csv\": \"regine\",\n",
    "#     \"spatiotemporally_variable_background_coefficients.csv\": \"regine\",\n",
    "#     \"vassdragsomrader_ospar_regions.csv\": \"vassom\",\n",
    "# }\n",
    "\n",
    "# for fname, pk_col in csv_dict.items():\n",
    "#     table_name = fname[:-4] + f\"_{data_year}\"\n",
    "#     fpath = os.path.join(data_fold, fname)\n",
    "#     df = pd.read_csv(fpath)\n",
    "#     df.to_sql(table_name, eng, schema=\"teotil3\", index=False, if_exists=\"replace\")\n",
    "\n",
    "#     sql = (\n",
    "#         f\"ALTER TABLE teotil3.{table_name} \"\n",
    "#         f\"ADD CONSTRAINT {table_name}_pk \"\n",
    "#         f'PRIMARY KEY (\"{pk_col}\")'\n",
    "#     )\n",
    "#     eng.execute(sql)"
   ]
  },
  {
   "cell_type": "markdown",
   "id": "f60e435e-65ca-4181-a129-9ed61f5b76f0",
   "metadata": {
    "extensions": {
     "jupyter_dashboards": {
      "activeView": "grid_default",
      "views": {
       "grid_default": {
        "col": null,
        "height": 2,
        "hidden": true,
        "locked": true,
        "row": null,
        "width": 2
       }
      }
     }
    }
   },
   "source": [
    "## 4. HBV modelled discharge from NVE"
   ]
  },
  {
   "cell_type": "code",
   "execution_count": 11,
   "id": "0db739d9-dd5d-4e42-9ecd-31952520fc8f",
   "metadata": {
    "extensions": {
     "jupyter_dashboards": {
      "activeView": "grid_default",
      "views": {
       "grid_default": {
        "col": null,
        "height": 2,
        "hidden": true,
        "locked": true,
        "row": null,
        "width": 2
       }
      }
     }
    }
   },
   "outputs": [],
   "source": [
    "# Period of data to upload (i.e. final year in datasets; for each of these,\n",
    "# a whole time series from 1990 will be added. The data_delivery_year is \n",
    "# final_year + 1)\n",
    "st_yr, end_yr = 2016, 2022\n",
    "\n",
    "# Whether to replace the entire table or append to it\n",
    "if_exists = \"replace\""
   ]
  },
  {
   "cell_type": "code",
   "execution_count": 12,
   "id": "a407e95d-fc9d-4abd-87a5-a706d62ec567",
   "metadata": {
    "extensions": {
     "jupyter_dashboards": {
      "activeView": "grid_default",
      "views": {
       "grid_default": {
        "col": null,
        "height": 2,
        "hidden": true,
        "locked": true,
        "row": null,
        "width": 2
       }
      }
     }
    }
   },
   "outputs": [
    {
     "name": "stdout",
     "output_type": "stream",
     "text": [
      "20.0 million rows to insert.\n"
     ]
    }
   ],
   "source": [
    "# Folder containing modelled data\n",
    "data_fold = r\"/home/jovyan/shared/common/teotil3/nve_hbv_data\"\n",
    "\n",
    "years = range(st_yr, end_yr + 1)\n",
    "df_list = []\n",
    "for year in years:\n",
    "    search_path = os.path.join(data_fold, f\"RID_{year}\", \"hbv_*.var\")\n",
    "    flist = glob.glob(search_path)\n",
    "\n",
    "    # Get number of days between 1990 and year of interest\n",
    "    days = len(pd.date_range(start=\"1990-01-01\", end=\"%s-12-31\" % year, freq=\"D\"))\n",
    "\n",
    "    for fpath in flist:\n",
    "        name = os.path.split(fpath)[1]\n",
    "        vassom = name.split(\"_\")[1][-7:-4]\n",
    "\n",
    "        df = pd.read_csv(\n",
    "            fpath, delim_whitespace=True, header=None, names=[\"date\", \"flow_m3/s\"]\n",
    "        )\n",
    "        df[\"date\"] = pd.to_datetime(df[\"date\"], format=\"%Y%m%d/1200\")\n",
    "        df[\"vassom\"] = vassom\n",
    "        df[\"data_supply_year\"] = year + 1\n",
    "        df = df[[\"data_supply_year\", \"vassom\", \"date\", \"flow_m3/s\"]]\n",
    "\n",
    "        # Check st, end and length\n",
    "        assert df[\"date\"].iloc[0] == pd.Timestamp(\n",
    "            \"1990-01-01\"\n",
    "        ), \"Series does not start on 01/01/1990.\"\n",
    "        assert df[\"date\"].iloc[-1] == pd.Timestamp(\"%s-12-31\" % year), (\n",
    "            \"Series does not end on 31/12/%s.\" % year\n",
    "        )\n",
    "        assert len(df) == days, \"Unexpected length for new series.\"\n",
    "\n",
    "        df_list.append(df)\n",
    "\n",
    "df = pd.concat(df_list, axis=\"rows\")\n",
    "assert df.duplicated([\"data_supply_year\", \"vassom\", \"date\"], keep=False).sum() == 0\n",
    "\n",
    "print(f\"{len(df)/1e6:.1f} million rows to insert.\")"
   ]
  },
  {
   "cell_type": "code",
   "execution_count": 13,
   "id": "d7812364-9da3-43c5-b5f0-fe2303d661e2",
   "metadata": {
    "extensions": {
     "jupyter_dashboards": {
      "activeView": "grid_default",
      "views": {
       "grid_default": {
        "col": null,
        "height": 2,
        "hidden": true,
        "locked": true,
        "row": null,
        "width": 2
       }
      }
     }
    }
   },
   "outputs": [
    {
     "data": {
      "application/vnd.jupyter.widget-view+json": {
       "model_id": "a27a6d972d424b15a3a41bd71808190a",
       "version_major": 2,
       "version_minor": 0
      },
      "text/plain": [
       "  0%|          | 0/201 [00:00<?, ?it/s]"
      ]
     },
     "metadata": {},
     "output_type": "display_data"
    },
    {
     "name": "stdout",
     "output_type": "stream",
     "text": [
      "CPU times: user 31min 48s, sys: 43.6 s, total: 32min 32s\n",
      "Wall time: 38min 55s\n"
     ]
    },
    {
     "data": {
      "text/plain": [
       "<sqlalchemy.engine.cursor.LegacyCursorResult at 0x782529593d30>"
      ]
     },
     "execution_count": 13,
     "metadata": {},
     "output_type": "execute_result"
    }
   ],
   "source": [
    "%%time\n",
    "\n",
    "# The databasse can't cope with writing 20 M rows directly from pandas\n",
    "# Instead, manually split the dataframe into chunks and write one\n",
    "# at a time\n",
    "chunk_size = 100000\n",
    "\n",
    "table_name = \"nve_hbv_discharge\"\n",
    "\n",
    "if if_exists == \"replace\":\n",
    "    # Replace with empty table\n",
    "    df.iloc[:0].to_sql(\n",
    "        table_name,\n",
    "        eng,\n",
    "        schema=\"teotil3\",\n",
    "        index=False,\n",
    "        if_exists=if_exists,\n",
    "    )\n",
    "\n",
    "# Write chunks in append mode\n",
    "chunks = [df[i : i + chunk_size] for i in range(0, df.shape[0], chunk_size)]\n",
    "for chunk in tqdm(chunks):\n",
    "    chunk.to_sql(\n",
    "        table_name,\n",
    "        eng,\n",
    "        schema=\"teotil3\",\n",
    "        index=False,\n",
    "        if_exists=\"append\",\n",
    "        method=\"multi\",\n",
    "    )\n",
    "\n",
    "sql = (\n",
    "    f\"ALTER TABLE teotil3.{table_name} \"\n",
    "    f\"ADD CONSTRAINT {table_name}_pk \"\n",
    "    f\"PRIMARY KEY (data_supply_year, vassom, date)\"\n",
    ")\n",
    "eng.execute(sql)"
   ]
  }
 ],
 "metadata": {
  "extensions": {
   "jupyter_dashboards": {
    "activeView": "grid_default",
    "version": 1,
    "views": {
     "grid_default": {
      "cellMargin": 2,
      "defaultCellHeight": 40,
      "maxColumns": 12,
      "name": "grid",
      "type": "grid"
     }
    }
   }
  },
  "kernelspec": {
   "display_name": "Python 3 (ipykernel)",
   "language": "python",
   "name": "python3"
  },
  "language_info": {
   "codemirror_mode": {
    "name": "ipython",
    "version": 3
   },
   "file_extension": ".py",
   "mimetype": "text/x-python",
   "name": "python",
   "nbconvert_exporter": "python",
   "pygments_lexer": "ipython3",
   "version": "3.10.11"
  }
 },
 "nbformat": 4,
 "nbformat_minor": 5
}
