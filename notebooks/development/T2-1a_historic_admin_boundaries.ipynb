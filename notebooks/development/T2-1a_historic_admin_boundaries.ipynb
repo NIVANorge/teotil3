{
 "cells": [
  {
   "cell_type": "code",
   "execution_count": 1,
   "id": "4169f2c5-5ca2-4b9c-b6da-d9633f449676",
   "metadata": {},
   "outputs": [],
   "source": [
    "import glob\n",
    "import os\n",
    "import shutil\n",
    "\n",
    "import fiona\n",
    "import geopandas as gpd"
   ]
  },
  {
   "cell_type": "markdown",
   "id": "fafd9516-6229-4dbd-9318-91c606e16eaa",
   "metadata": {},
   "source": [
    "# Task 2.1: Update TEOTIL \"core\" datasets\n",
    "\n",
    "## Part A: Process historic administrative boundaries\n",
    "\n",
    "TEOTIL needs access to historic kommune and fylke boundaries and ID codes, which change surprisingly regularly. Some historic datasets are available from Geonorge ([here](https://kartkatalog.geonorge.no/metadata/administrative-enheter-historiske-versjoner/9bc064e3-6c34-4c3a-8421-00290052e9c0)), but the formats, file names and attributes are inconsistent. This notebook attempts to process the historic data to create a geopackage of standardised kommune and fylke boundaries for use later."
   ]
  },
  {
   "cell_type": "code",
   "execution_count": 2,
   "id": "ae8ab256-ebd6-4fc2-8a83-b3ff26997f54",
   "metadata": {},
   "outputs": [],
   "source": [
    "data_fold = r\"/home/jovyan/shared/teotil3/core_data_june_2022/administrative\"\n",
    "raw_fold = os.path.join(data_fold, \"raw\")\n",
    "temp_fold = os.path.join(data_fold, \"temp\")"
   ]
  },
  {
   "cell_type": "markdown",
   "id": "4fbd9475-fdd8-4695-9fc5-ff68327376b9",
   "metadata": {},
   "source": [
    "## 1. Fylke and kommune codes\n",
    "\n",
    "Each fylke is assigned a four digit code ending `00`, where the first two digits give the fylkesnummer. Each fylke is then subdivided into kommuner, which also have four digit codes where the first two digits match the fylkesnummer and the last two digits uniquely identify the kommune (i.e. each fylke could potentially have up to 99 kommuner).\n",
    "\n",
    "Fylke boundaries were fairly stable from ~1980 to 2017, then some changes took place in 2018 and then again in 2020 (see [here](https://no.wikipedia.org/wiki/Fylkesnummer)). However, the exact kommuner assigned to each fylke have changed a bit over time.\n",
    "\n",
    "Looking at the data from Geonorge, the most complete and consistent datasets are for the kommuner. It is therefore easiest to ignore the fylke datasets completely and instead create them by extracting the first two digits from the kommune dataset and dissolving based on that."
   ]
  },
  {
   "cell_type": "markdown",
   "id": "d173a1ca-c860-48ca-b651-224fb2cf5416",
   "metadata": {},
   "source": [
    "## 2. Convert SOSI to shapefiles\n",
    "\n",
    "Many of the older datasets are only available in SOSI format. I have downloaded all the data from [here](https://kartkatalog.geonorge.no/metadata/administrative-enheter-historiske-versjoner/9bc064e3-6c34-4c3a-8421-00290052e9c0) (a mixture of `.sos` and `.gdb` files) and renamed them in a consistent way. I have also downloaded [sosicon](https://sosicon.espenandersen.no/), which is a command line utility for converting SOSI files to `.shp`. The application is here\n",
    "\n",
    "    shared/teotil3/sosicon\n",
    "    \n",
    "and all the raw administrative data (up to and including 2022) is here\n",
    "\n",
    "    shared/teotil3/core_data_june_2022/administrative/raw\n",
    "    \n",
    "The code below converts all SOSI files in this folder to `.shp` and stores them in\n",
    "\n",
    "    shared/teotil3/core_data_june_2022/administrative/temp\n",
    "    \n",
    "**Note:** `sosicon` produces a lot of text output, so to avoid the notebook becoming large/messy, it's easier to paste the command below directly into a terminal, rather than running from within the notebook.\n",
    "\n",
    "**Note2:** For some reason, the sosicon command line program produces invalid output for `admin2017_Kommune_FLATE.shp` and `admin2018_Kommune_FLATE.shp` leaving gaps in the timeseries. However, the [online version](https://app.sosicon.espenandersen.no/) of sosicon seems to handle these conversions OK. I have therefore manually converted `admin2017.sos` and `admin2018.sos` and then replaced the auto-generated versions of `admin2017_Kommune_FLATE.shp` and `admin2018_Kommune_FLATE.shp` with the ones produced online."
   ]
  },
  {
   "cell_type": "code",
   "execution_count": 3,
   "id": "480be40c-90d4-41e8-9b20-febcf9b4db15",
   "metadata": {},
   "outputs": [],
   "source": [
    "#! ls /home/jovyan/shared/teotil3/core_data_june_2022/administrative/raw/*.sos | /home/jovyan/shared/teotil3/sosicon/sosicon -2shp -d /home/jovyan/shared/teotil3/core_data_june_2022/administrative/temp"
   ]
  },
  {
   "cell_type": "markdown",
   "id": "516141c9-80d5-4c8a-8630-1b854e2b84d7",
   "metadata": {},
   "source": [
    "## 3. Process SOSI-derived shapefiles\n",
    "\n",
    "Sosicon generates *a lot* of shapefiles. Some of these seem to be invalid and we're only interested in **polygons** for the **kommuner**. The code below ignores everything else, generates fylker from the kommuner, and saves all results to a geopackage."
   ]
  },
  {
   "cell_type": "code",
   "execution_count": 4,
   "id": "4375364c-8ac4-4bbc-a979-847bd7239840",
   "metadata": {},
   "outputs": [
    {
     "name": "stdout",
     "output_type": "stream",
     "text": [
      "Processing admin2017_Kommune_FLATE.shp\n",
      "Processing kommuner2011_Kommune_FLATE.shp\n",
      "Processing kommuner2009_Kommune_FLATE.shp\n",
      "Processing admin2014_Kommune_FLATE.shp\n",
      "Processing admin2003_Kommune_FLATE.shp\n",
      "Processing kommuner2007_Kommune_FLATE.shp\n",
      "Processing kommuner2010_Kommune_FLATE.shp\n",
      "Processing admin2015_Kommune_FLATE.shp\n",
      "Processing kommuner2013_Kommune_FLATE.shp\n",
      "Processing kommuner2006_Kommune_FLATE.shp\n",
      "Processing kommuner2005_Kommune_FLATE.shp\n",
      "Processing admin2018_Kommune_FLATE.shp\n",
      "Processing kommuner2013_Kommune_FLATE_01.shp\n",
      "Processing admin2004_Kommune_FLATE.shp\n",
      "Processing kommuner2008_Kommune_FLATE.shp\n",
      "Processing kommuner2012_Kommune_FLATE.shp\n",
      "Processing admin2016_Kommune_FLATE.shp\n"
     ]
    }
   ],
   "source": [
    "# List all .shp files\n",
    "search_path = os.path.join(temp_fold, \"*.shp\")\n",
    "flist = glob.glob(search_path)\n",
    "\n",
    "admin_gpkg = os.path.join(data_fold, \"admin_data.gpkg\")\n",
    "if os.path.isfile(admin_gpkg):\n",
    "    os.remove(admin_gpkg)\n",
    "\n",
    "# Different col names used to contain the kommune number\n",
    "kom_cols = [\"KOMM\", \"KOMM      \", \"KOMMUNENUM\"]\n",
    "\n",
    "for fpath in flist:\n",
    "    # Ignore if .shp is invalid\n",
    "    try:\n",
    "        gdf = gpd.read_file(fpath)\n",
    "    except:\n",
    "        continue\n",
    "\n",
    "    # If file OK, extract basic info\n",
    "    geoms = gdf.geom_type.unique()\n",
    "    fname = os.path.split(fpath)[1]\n",
    "    admin_type = fname.split(\"_\")[1]\n",
    "    year = fname.split(\"_\")[0][-4:]\n",
    "\n",
    "    # Only process Kommune data\n",
    "    if admin_type == \"Kommune\":\n",
    "        # Only Polygon geoms\n",
    "        if (\"Polygon\" in geoms) or (\"MultiPolygon\" in geoms):\n",
    "            print(\"Processing\", fname)\n",
    "            # Find col with kommnenummers\n",
    "            kom_col = [i for i in kom_cols if i in gdf.columns]\n",
    "            if len(kom_col) != 1:\n",
    "                print(fname, kom_col)\n",
    "                print(gdf.columns)\n",
    "                raise ValueError(\"Could not identify kommunenummer field.\")\n",
    "            kom_col = kom_col[0]\n",
    "\n",
    "            # Get fylkesnummer from kommnr\n",
    "            gdf[kom_col] = gdf[kom_col].astype(str)\n",
    "            gdf[\"fylnr\"] = gdf[kom_col].str[:2]\n",
    "            gdf.rename({kom_col: \"komnr\"}, axis=\"columns\", inplace=True)\n",
    "            gdf = gdf[[\"fylnr\", \"komnr\", \"geometry\"]]\n",
    "\n",
    "            # Dissolve\n",
    "            kom_gdf = gdf.dissolve(by=\"komnr\", aggfunc=\"first\").reset_index()\n",
    "            kom_gdf = kom_gdf[[\"fylnr\", \"komnr\", \"geometry\"]]\n",
    "            fyl_gdf = gdf.dissolve(by=\"fylnr\").reset_index()\n",
    "            fyl_gdf = fyl_gdf[[\"fylnr\", \"geometry\"]]\n",
    "\n",
    "            # Save\n",
    "            kom_gdf.to_file(\n",
    "                admin_gpkg,\n",
    "                driver=\"GPKG\",\n",
    "                layer=f\"kommuner{year}\",\n",
    "                index=False,\n",
    "            )\n",
    "            fyl_gdf.to_file(\n",
    "                admin_gpkg,\n",
    "                driver=\"GPKG\",\n",
    "                layer=f\"fylker{year}\",\n",
    "                index=False,\n",
    "            )\n",
    "\n",
    "shutil.rmtree(temp_fold)"
   ]
  },
  {
   "cell_type": "markdown",
   "id": "e31d6605-dd83-4777-9869-044f77189398",
   "metadata": {},
   "source": [
    "## 4. Process geodatabase files\n",
    "\n",
    "The most recent datasets (2019 onwards) are only available in geodatabase format."
   ]
  },
  {
   "cell_type": "code",
   "execution_count": 5,
   "id": "794c31f2-50d7-4b15-9cf0-3652d9ac827c",
   "metadata": {},
   "outputs": [
    {
     "name": "stdout",
     "output_type": "stream",
     "text": [
      "Processing kommuner2022\n",
      "Processing kommuner2021\n",
      "Processing kommuner2020\n",
      "Processing kommuner2019\n"
     ]
    }
   ],
   "source": [
    "search_path = os.path.join(raw_fold, \"kommuner*.gdb\")\n",
    "flist = glob.glob(search_path)\n",
    "for fpath in flist:\n",
    "    fname = os.path.split(fpath)[1][:-4]\n",
    "    print(\"Processing\", fname)\n",
    "\n",
    "    year = fname[-4:]\n",
    "    gdf = gpd.read_file(fpath, driver=\"fileGDB\", layer=\"kommune\")\n",
    "\n",
    "    # Get fylkesnummer from kommnr\n",
    "    gdf.rename({\"kommunenummer\": \"komnr\"}, axis=\"columns\", inplace=True)\n",
    "    gdf[\"komnr\"] = gdf[\"komnr\"].astype(str)\n",
    "    gdf[\"fylnr\"] = gdf[\"komnr\"].str[:2]\n",
    "    gdf = gdf[[\"fylnr\", \"komnr\", \"geometry\"]]\n",
    "\n",
    "    # Dissolve\n",
    "    kom_gdf = gdf.dissolve(by=\"komnr\", aggfunc=\"first\").reset_index()\n",
    "    kom_gdf = kom_gdf[[\"fylnr\", \"komnr\", \"geometry\"]]\n",
    "    fyl_gdf = gdf.dissolve(by=\"fylnr\").reset_index()\n",
    "    fyl_gdf = fyl_gdf[[\"fylnr\", \"geometry\"]]\n",
    "\n",
    "    # Save\n",
    "    kom_gdf.to_file(\n",
    "        admin_gpkg,\n",
    "        driver=\"GPKG\",\n",
    "        layer=f\"kommuner{year}\",\n",
    "        index=False,\n",
    "    )\n",
    "    fyl_gdf.to_file(\n",
    "        admin_gpkg,\n",
    "        driver=\"GPKG\",\n",
    "        layer=f\"fylker{year}\",\n",
    "        index=False,\n",
    "    )"
   ]
  },
  {
   "cell_type": "markdown",
   "id": "39fa5cf5-9501-44b7-babe-b4ee50fd4d6f",
   "metadata": {},
   "source": [
    "## 5. Explore layers"
   ]
  },
  {
   "cell_type": "code",
   "execution_count": 6,
   "id": "add5376f-d85b-4b59-8e83-263b9a9f24c9",
   "metadata": {},
   "outputs": [
    {
     "data": {
      "text/plain": [
       "['fylker2003',\n",
       " 'fylker2004',\n",
       " 'fylker2005',\n",
       " 'fylker2006',\n",
       " 'fylker2007',\n",
       " 'fylker2008',\n",
       " 'fylker2009',\n",
       " 'fylker2010',\n",
       " 'fylker2011',\n",
       " 'fylker2012',\n",
       " 'fylker2013',\n",
       " 'fylker2014',\n",
       " 'fylker2015',\n",
       " 'fylker2016',\n",
       " 'fylker2017',\n",
       " 'fylker2018',\n",
       " 'fylker2019',\n",
       " 'fylker2020',\n",
       " 'fylker2021',\n",
       " 'fylker2022',\n",
       " 'kommuner2003',\n",
       " 'kommuner2004',\n",
       " 'kommuner2005',\n",
       " 'kommuner2006',\n",
       " 'kommuner2007',\n",
       " 'kommuner2008',\n",
       " 'kommuner2009',\n",
       " 'kommuner2010',\n",
       " 'kommuner2011',\n",
       " 'kommuner2012',\n",
       " 'kommuner2013',\n",
       " 'kommuner2014',\n",
       " 'kommuner2015',\n",
       " 'kommuner2016',\n",
       " 'kommuner2017',\n",
       " 'kommuner2018',\n",
       " 'kommuner2019',\n",
       " 'kommuner2020',\n",
       " 'kommuner2021',\n",
       " 'kommuner2022']"
      ]
     },
     "execution_count": 6,
     "metadata": {},
     "output_type": "execute_result"
    }
   ],
   "source": [
    "sorted(fiona.listlayers(admin_gpkg))"
   ]
  },
  {
   "cell_type": "markdown",
   "id": "04375792-4eb5-4b6b-bf17-23d204cf8404",
   "metadata": {},
   "source": [
    "This notebook has generated complete annual data series for fylker and kommuner from 2003 to 2022 inclusive."
   ]
  }
 ],
 "metadata": {
  "kernelspec": {
   "display_name": "Python 3 (ipykernel)",
   "language": "python",
   "name": "python3"
  },
  "language_info": {
   "codemirror_mode": {
    "name": "ipython",
    "version": 3
   },
   "file_extension": ".py",
   "mimetype": "text/x-python",
   "name": "python",
   "nbconvert_exporter": "python",
   "pygments_lexer": "ipython3",
   "version": "3.9.10"
  }
 },
 "nbformat": 4,
 "nbformat_minor": 5
}
