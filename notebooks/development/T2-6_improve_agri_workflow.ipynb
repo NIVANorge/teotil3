{
 "cells": [
  {
   "cell_type": "markdown",
   "id": "f7a7df2f-d2e9-4c83-ad8a-ae7313b854cb",
   "metadata": {},
   "source": [
    "# Task 2.6: Improve agricultural workflow\n",
    "\n",
    "From the proposal text:\n",
    "\n",
    "> **Oppgave 2.6: Forbedre arbeidsflyten for jordbruket**\n",
    "> \n",
    "> TEOTIL vil bli modifisert for å akseptere mer detaljerte inputdata fra jordbruksmodellene (underfraksjoner av N & P, SS og TOC). Den romlige fordelingen av jordbruksinputene i TEOTIL vil også bli forbedret, ved å erstatte dagens lenketabeller basert på «fylker-soner» med et enkelt romlig datasett. Dette vil gjøre modellen enklere å vedlikeholde, fordi endringer i fylkesgrenser ikke lenger vil påvirke jordbruksfluksene i TEOTIL. Det vil også gjøre det mulig å tilordne jordbruksinputs til nedbørfelt mer presist. \n",
    "\n",
    "## 1. Data resolution\n",
    "\n",
    "The updated NIBIO agricultural models will generate data at **regine** resolution, which should be much easier to integrate with TEOTIL3 than the old data (which had coarser resolution). Marianne has proposed that NIBIO supply data using an Excel template (see e-mail received 15.09.2023). A blank copy of the template is available [here](https://github.com/NIVANorge/teotil3/blob/main/data/nibio_agri_data_template.xlsx).\n",
    "\n",
    "## 2. Agricultural parameters\n",
    "\n",
    "The template includes estimated losses due to agricultural activities, plus \"background\" losses. The background component represents losses that would be expected even without agriculture, so they should be included as \"natural\" losses when aggregating output parameters. \n",
    "\n",
    "The NIBIO models simulate TOTN, NO3, TOTP, PO4, SS and TOC. For TEOTIL, I will assume that NO3 ~ DIN and PO4 ~ TDP, and then estimate TON and TPP as the difference between these and the totals.\n",
    "\n",
    "## 3. \"Annual\" versus \"risk-based\" simulations\n",
    "\n",
    "One important change in the agricultural models compared to previously is that they now run in two modes: **annual losses**, which include interannual variation due to weather variability, and **risk losses**, which assume a fixed average runoff in order to better isolate effects of land management. This is why there are worksheets in the template named `Annual loss` and `Risk loss`.\n",
    "\n",
    "In the old agricultural models (used with TEOTIL2) all loss estimates were risk-based, which is not compatible with the way fluxes from other sources are estimated. By default, TEOTIL3 will use the **annual** loss estimates from the new NIBIO models. However, I have also added an new keyword argument, `agri_loss_model=\"annual\"`, to `teo.io.make_input_file`. This makes it easy to run TEOTIL using the risk-based agricultural losses, if desired (although in most cases it does not make sense to do this).\n",
    "\n",
    "## 4. Data processing\n",
    "\n",
    "Input templates received from NIBIO should be named `nibio_agri_data_{year}.xlsx`. The function `teo.preprocessing.read_raw_agri_data` can then be used to process the data and add it to the TEOTIL3 database. See section 4 of the [annual data upload notebook](https://nbviewer.org/github/NIVANorge/teotil3/blob/main/notebooks/development/T2-1d_annual_data_upload.ipynb) for details."
   ]
  }
 ],
 "metadata": {
  "kernelspec": {
   "display_name": "Python 3 (ipykernel)",
   "language": "python",
   "name": "python3"
  },
  "language_info": {
   "codemirror_mode": {
    "name": "ipython",
    "version": 3
   },
   "file_extension": ".py",
   "mimetype": "text/x-python",
   "name": "python",
   "nbconvert_exporter": "python",
   "pygments_lexer": "ipython3",
   "version": "3.11.6"
  }
 },
 "nbformat": 4,
 "nbformat_minor": 5
}
