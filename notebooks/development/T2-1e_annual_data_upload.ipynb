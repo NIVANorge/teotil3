{
 "cells": [
  {
   "cell_type": "code",
   "execution_count": 1,
   "id": "5e40d7f8-39c2-4e50-b143-d243882a9536",
   "metadata": {},
   "outputs": [],
   "source": [
    "# # Run this and then restart the kernel at the start of each session to install\n",
    "# # 'teotil3' in development mode\n",
    "# !pip install -e /home/jovyan/projects/teotil3/"
   ]
  },
  {
   "cell_type": "code",
   "execution_count": 2,
   "id": "99215781-f77e-4b3b-8342-41ac7482f061",
   "metadata": {},
   "outputs": [],
   "source": [
    "import nivapy3 as nivapy\n",
    "import teotil3 as teo\n",
    "from sqlalchemy import text"
   ]
  },
  {
   "cell_type": "code",
   "execution_count": 3,
   "id": "52d8e444-aba9-4f4d-b4c5-700632270745",
   "metadata": {},
   "outputs": [
    {
     "name": "stdin",
     "output_type": "stream",
     "text": [
      "Username:  ········\n",
      "Password:  ········\n"
     ]
    },
    {
     "name": "stdout",
     "output_type": "stream",
     "text": [
      "Connection successful.\n"
     ]
    }
   ],
   "source": [
    "eng = nivapy.da.connect_postgis(admin=True)\n",
    "# eng = nivapy.da.connect_postgis()"
   ]
  },
  {
   "cell_type": "markdown",
   "id": "a01323f7-1940-4710-a238-4bd3ab1d4d9e",
   "metadata": {},
   "source": [
    "# TEOTIL3: Annual data processing\n",
    "\n",
    "Each year, raw datasets for the TEOTIL model are gathered from a variety of sources:\n",
    "\n",
    " * **Monitored discharges for \"large\" wastewater treatment plants (>50 p.e.) from SSB**. This dataset is split into two parts: the raw data that SSB receives from Miljødirektoratet (which includes all variables, and is often call the \"miljøgifter dataset\"), and a statistically interpolated dataset for total N and P. The statistically interpolated dataset includes the data for TOTN and TOTP from the miljøgifter dataset (i.e. there is some duplication) but, for TOTN and TOTP, SSB fills data gaps by estimating discharges for non-reporting sites based on similar sites that have reported\n",
    " \n",
    " * **Aggregated, kommune-level discharges from smaller wastewater treatment plants (≤50 p.e.) from SSB**. This is often call the \"spredt dataset\" and includes e.g. discharges from septic tanks and other sources not connected to the main wastewater treatment network\n",
    " \n",
    " * **Industrial discharges from Miljødirektoratet** based on information in their discharge licensing database\n",
    " \n",
    " * **Aquaculture discharges based on productivity figures supplied by Fiskeridirektoratet**. The workflow for this component has been substantially revised and improved in the new model - see [Task 2.9](https://github.com/NIVANorge/teotil3/tree/main/notebooks/development#task-29-improve-workflow-for-aquaculture) for details\n",
    " \n",
    " * **Agricultural inputs from NIBIO**. Note that the agricultural modelling workflow is being revised and updated by NIBIO during 2022/3, so this component will change in the near future\n",
    " \n",
    "`teo.preprocessing` includes functions for reading each of the raw datasets, estimating derived parameters and adding everything to the `teotil3` database on the JupyterHub. Many of these functions have been migrated and refactored from the [RID GitHub repository](https://github.com/JamesSample/rid) created for Elveovervåkingsprogrammet.\n",
    "\n",
    "This notebook processes and uploads data for a user-specified range of years."
   ]
  },
  {
   "cell_type": "code",
   "execution_count": 4,
   "id": "efab367e-ad4f-4025-8ee5-fa451687f799",
   "metadata": {},
   "outputs": [],
   "source": [
    "st_yr, end_yr = 2016, 2021\n",
    "years = range(st_yr, end_yr + 1)"
   ]
  },
  {
   "cell_type": "code",
   "execution_count": 5,
   "id": "028a849b-b340-4768-bf5b-80077a356729",
   "metadata": {},
   "outputs": [
    {
     "data": {
      "text/plain": [
       "<sqlalchemy.engine.cursor.LegacyCursorResult at 0x7f9648729ae0>"
      ]
     },
     "execution_count": 5,
     "metadata": {},
     "output_type": "execute_result"
    }
   ],
   "source": [
    "# Delete ALL industry, wastewater and aquaculture data values already\n",
    "# in the database for these years\n",
    "sql = text(\n",
    "    \"\"\"DELETE FROM teotil3.point_source_values\n",
    "       WHERE year >= :st_yr\n",
    "       AND year <= :end_yr\n",
    "\"\"\"\n",
    ")\n",
    "eng.execute(sql, st_yr=st_yr, end_yr=end_yr)\n",
    "\n",
    "# Delete all spredt values in the database for these years\n",
    "sql = text(\n",
    "    \"\"\"DELETE FROM teotil3.spredt_inputs\n",
    "       WHERE year >= :st_yr\n",
    "       AND year <= :end_yr\n",
    "\"\"\"\n",
    ")\n",
    "eng.execute(sql, st_yr=st_yr, end_yr=end_yr)"
   ]
  },
  {
   "cell_type": "markdown",
   "id": "3ddd2e99-0ad7-4707-aa57-b5dd7b0d5830",
   "metadata": {},
   "source": [
    "## 1. Large wastewater treatment plants and industry\n",
    "\n",
    "These three datasets (two for wastewater and one for industry) are treated similarly, and there is some duplication between the files.\n",
    "\n",
    " * The **store anlegg** dataset is in wide format. Copy and rename the file to `avlop_stor_anlegg_{year}_raw.xlsx`, then change the worksheet name to `store_anlegg_{year}`. The header must also be tidied (see example datasets from previous years) and blank rows at the end of the worksheet can be deleted. SSB also provide a file named `RID_Totalpopulasjon_{year}.csv`, which includes the treatment type for each facility. This dataset should be saved as `avlop_stor_anlegg_{year}_treatment_types.xlsx` and the worksheet named `data`\n",
    "\n",
    " * The **miljøgifter** dataset is in wide format. Copy and rename the file to `avlop_miljogifter_{year}_raw.xlsx`, then change the worksheet name to `miljogifter_{year}`\n",
    "\n",
    " * The **industry** dataset is in long format and usually contains data for multiple years. Copy and rename the file to `industry_{year}_raw.xlsx`, then rename the worksheet to `industry_{year}`. Delete rows above the header and check the header is the same as in previous years. Remember to filter the data to only include the year of interest (i.e. delete rows for other years), otherwise the TEOTIL will raise and error\n",
    " \n",
    "The tidied files should be added to a single folder, structured as follows:\n",
    "\n",
    "    data_fold/\n",
    "    ├─ avlop_stor_anlegg_{year}_raw.xlsx\n",
    "    │  ├─ store_anlegg_{year} [worksheet]\n",
    "    │\n",
    "    ├─ avlop_stor_anlegg_{year}_treatment_types.xlsx\n",
    "    │  ├─ data [worksheet]\n",
    "    │\n",
    "    ├─ avlop_miljogifter_{year}_raw.xlsx\n",
    "    │  ├─ miljogifter_{year} [worksheet]\n",
    "    │\n",
    "    ├─ industry_{year}_raw.xlsx\n",
    "    │  ├─ industry_{year} [worksheet]\n",
    "\n",
    "Files for each year are hosted on `shared`\n",
    "\n",
    "    shared/teotil3/point_data/"
   ]
  },
  {
   "cell_type": "code",
   "execution_count": 6,
   "id": "f1f0bebd-4201-4613-9480-7a1b6877349a",
   "metadata": {},
   "outputs": [
    {
     "name": "stdout",
     "output_type": "stream",
     "text": [
      "# 2016 #################\n",
      "28 locations do not have co-ordinates in this year's data.\n",
      "3052 locations are not in the database.\n",
      "28 locations are not in the database and do not have co-ordinates (and therefore must be ignored)\n",
      "# 2017 #################\n",
      "WARNING: 2 duplicates identified (see below). Only the first will be kept.\n",
      "           site_id   variable  value\n",
      "1517  5001.0121.01  SS_tonnes    5.7\n",
      "1518  5001.0121.01  SS_tonnes    5.7\n",
      "44 locations do not have co-ordinates in this year's data.\n",
      "120 locations are not in the database.\n",
      "40 locations are not in the database and do not have co-ordinates (and therefore must be ignored)\n",
      "# 2018 #################\n",
      "19 locations do not have co-ordinates in this year's data.\n",
      "55 locations are not in the database.\n",
      "14 locations are not in the database and do not have co-ordinates (and therefore must be ignored)\n",
      "# 2019 #################\n",
      "13 locations do not have co-ordinates in this year's data.\n",
      "271 locations are not in the database.\n",
      "7 locations are not in the database and do not have co-ordinates (and therefore must be ignored)\n",
      "# 2020 #################\n",
      "44 locations do not have co-ordinates in this year's data.\n",
      "58 locations are not in the database.\n",
      "35 locations are not in the database and do not have co-ordinates (and therefore must be ignored)\n",
      "# 2021 #################\n",
      "18 locations do not have co-ordinates in this year's data.\n",
      "53 locations are not in the database.\n",
      "4 locations are not in the database and do not have co-ordinates (and therefore must be ignored)\n"
     ]
    }
   ],
   "source": [
    "for year in years:\n",
    "    print(\"#\", year, \"#################\")\n",
    "    data_fold = f\"/home/jovyan/shared/teotil3/point_data/{year}\"\n",
    "    nidb_gdf, df = teo.preprocessing.read_large_wastewater_and_industry_data(\n",
    "        data_fold, year, eng\n",
    "    )\n",
    "\n",
    "    # Add new sites to the database\n",
    "    if nidb_gdf is not None:\n",
    "        nidb_gdf.to_postgis(\n",
    "            \"point_source_locations\",\n",
    "            con=eng,\n",
    "            schema=\"teotil3\",\n",
    "            if_exists=\"append\",\n",
    "            index=False,\n",
    "        )\n",
    "    # Add values to database\n",
    "    df.to_sql(\n",
    "        \"point_source_values\",\n",
    "        con=eng,\n",
    "        schema=\"teotil3\",\n",
    "        if_exists=\"append\",\n",
    "        index=False,\n",
    "    )"
   ]
  },
  {
   "cell_type": "markdown",
   "id": "4580c256-99a2-4f90-a69c-cac2e14e053e",
   "metadata": {},
   "source": [
    "## 2. Small wastewater treatment plants\n",
    "\n",
    "First, **download the latest fylke and kommune boundaries** from [Geonorge](https://www.geonorge.no/). These should be processed and linked to regines by following the workflow described in notebooks `T2-1a` to `T2-1c`. TEOTIL will raise an error if administrative boundaries for the year of interest cannot be found in PostGIS in the table `teotil3.regine_2022`.\n",
    "\n",
    "Next, copy and rename the data file to `avlop_sma_anlegg_{year}_raw.xlsx`, and rename the worksheet `sma_anlegg_{year}`. Delete rows above the header and delete unnecessary columns: the only columns required are `KOMMUNENR` and the `NITROGEN` and `FOSFOR` discharges from the 14 different types of plant (i.e. delete the `KOMMUNENAVN` column, the population columns and the total columns for N and P). Also delete the rows with totals and unit, to give a single-row header."
   ]
  },
  {
   "cell_type": "code",
   "execution_count": 7,
   "id": "c9b93574-aed2-4a57-afdf-118bfd883e7c",
   "metadata": {},
   "outputs": [
    {
     "name": "stdout",
     "output_type": "stream",
     "text": [
      "# 2016 #################\n",
      "# 2017 #################\n",
      "# 2018 #################\n",
      "# 2019 #################\n",
      "# 2020 #################\n",
      "# 2021 #################\n"
     ]
    }
   ],
   "source": [
    "for year in years:\n",
    "    print(\"#\", year, \"#################\")\n",
    "    xl_path = f\"/home/jovyan/shared/teotil3/point_data/{year}/avlop_sma_anlegg_{year}_raw.xlsx\"\n",
    "    sheet_name = f\"sma_anlegg_{year}\"\n",
    "    df = teo.preprocessing.read_raw_small_wastewater_data(\n",
    "        xl_path, sheet_name, year, eng\n",
    "    )\n",
    "\n",
    "    # Add to database\n",
    "    df.to_sql(\n",
    "        \"spredt_inputs\",\n",
    "        con=eng,\n",
    "        schema=\"teotil3\",\n",
    "        if_exists=\"append\",\n",
    "        index=False,\n",
    "    )"
   ]
  },
  {
   "cell_type": "markdown",
   "id": "ccbc74e4-e47c-4716-969a-205588175f2d",
   "metadata": {},
   "source": [
    "## 3. Aquaculture\n",
    "\n",
    "The aquaculture dataset from Fiskeridirektoratet is usually encrypted and must be stored securely. Copy and rename the file to `fiske_oppdret_{year}_raw.xlsx`, and change the worksheet name to `fiskeoppdrett_{year}`. Check that data have only been provided for one year and that the column names match submissions from previous years.\n",
    "\n",
    "As part of reporting to OSPAR, we usually also estimate data for **copper usage in aquaculture** and add it to the database. Miljødirektoratet will supply an annual total for the amount of copper used in aquaculture (in tonnes), which should be added to the file [here](https://github.com/NIVANorge/teotil3/blob/main/data/aquaculture_annual_copper_usage.csv) and pushed to GitHub."
   ]
  },
  {
   "cell_type": "code",
   "execution_count": 8,
   "id": "2901aaca-2097-4fc3-87a9-4920c33ac070",
   "metadata": {},
   "outputs": [
    {
     "name": "stdout",
     "output_type": "stream",
     "text": [
      "# 2016 #################\n",
      "0 locations do not have co-ordinates in this year's data.\n",
      "824 locations are not in the database.\n",
      "The total annual copper lost to water from aquaculture is 1134.8 tonnes.\n",
      "# 2017 #################\n",
      "0 locations do not have co-ordinates in this year's data.\n",
      "88 locations are not in the database.\n",
      "The total annual copper lost to water from aquaculture is 1217.2 tonnes.\n",
      "# 2018 #################\n",
      "0 locations do not have co-ordinates in this year's data.\n",
      "47 locations are not in the database.\n",
      "The total annual copper lost to water from aquaculture is 1382.1 tonnes.\n",
      "# 2019 #################\n",
      "0 locations do not have co-ordinates in this year's data.\n",
      "45 locations are not in the database.\n",
      "The total annual copper lost to water from aquaculture is 1443.3 tonnes.\n",
      "# 2020 #################\n",
      "0 locations do not have co-ordinates in this year's data.\n",
      "30 locations are not in the database.\n",
      "The total annual copper lost to water from aquaculture is 1308.1 tonnes.\n",
      "# 2021 #################\n",
      "0 locations do not have co-ordinates in this year's data.\n",
      "38 locations are not in the database.\n",
      "The total annual copper lost to water from aquaculture is 1308.1 tonnes.\n"
     ]
    }
   ],
   "source": [
    "for year in years:\n",
    "    print(\"#\", year, \"#################\")\n",
    "    xl_path = (\n",
    "        f\"/home/jovyan/shared/teotil3/point_data/{year}/fiske_oppdret_{year}_raw.xlsx\"\n",
    "    )\n",
    "    sheet_name = f\"fiskeoppdrett_{year}\"\n",
    "\n",
    "    cu_tonnes = teo.preprocessing.get_annual_copper_usage_aquaculture(year)\n",
    "    nidb_gdf, df = teo.preprocessing.read_raw_aquaculture_data(\n",
    "        xl_path, sheet_name, year, eng\n",
    "    )\n",
    "    df = teo.preprocessing.estimate_aquaculture_nutrient_inputs(\n",
    "        df, year, eng, cu_tonnes=cu_tonnes, species_ids=[71401, 71101]\n",
    "    )\n",
    "\n",
    "    # Add new sites to the database\n",
    "    if nidb_gdf is not None:\n",
    "        nidb_gdf.to_postgis(\n",
    "            \"point_source_locations\",\n",
    "            con=eng,\n",
    "            schema=\"teotil3\",\n",
    "            if_exists=\"append\",\n",
    "            index=False,\n",
    "        )\n",
    "    # Add values to database\n",
    "    df.to_sql(\n",
    "        \"point_source_values\",\n",
    "        con=eng,\n",
    "        schema=\"teotil3\",\n",
    "        if_exists=\"append\",\n",
    "        index=False,\n",
    "    )"
   ]
  },
  {
   "cell_type": "markdown",
   "id": "70ca0b73-0e87-483c-ad56-6b22701f9bce",
   "metadata": {},
   "source": [
    "## 4. Agriculture\n",
    "\n",
    "**To do**. The agricultural models are being updated by NIBIO. Code will eventually be required here to add the new agricultural data to the TEOTIL database."
   ]
  }
 ],
 "metadata": {
  "kernelspec": {
   "display_name": "Python 3 (ipykernel)",
   "language": "python",
   "name": "python3"
  },
  "language_info": {
   "codemirror_mode": {
    "name": "ipython",
    "version": 3
   },
   "file_extension": ".py",
   "mimetype": "text/x-python",
   "name": "python",
   "nbconvert_exporter": "python",
   "pygments_lexer": "ipython3",
   "version": "3.10.6"
  }
 },
 "nbformat": 4,
 "nbformat_minor": 5
}
