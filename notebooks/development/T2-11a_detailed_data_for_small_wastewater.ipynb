{
 "cells": [
  {
   "cell_type": "markdown",
   "id": "5cbab288-0b5d-4ed3-ba39-945df84a14a6",
   "metadata": {},
   "source": [
    "# Task 2.11: Additional input sources\n",
    "\n",
    "## Part A: Detailed data for small wastewater sites\n",
    "\n",
    "From the proposal text:\n",
    "\n",
    "> **Oppgave 2.11: Legg til mulighet for å bruke mer detaljerte data for små anlegg**\n",
    ">\n",
    "> Som standard bruker den nye modellen sammendrag på kommunenivå generert av SSB for å estimere input fra små avløpsrenseanlegg. SSB-sammendragene er de beste datasettene som er tilgjengelige nasjonalt, men på enkelte områder kan det finnes mer detaljerte datasett.\n",
    ">\n",
    "> Denne oppgaven vil lage en inputmal (f.eks. i Excel) der interessenter som Miljødirektoratet, Vannområder eller Statsforvalteren kan legge inn stedsspesifikke detaljer for små anlegg. Som et minimum må detaljer inkludere: en unik ID; geografiske koordinater for hvert anlegg; antall personer knyttet til anlegget; og anleggstype (dvs. renseprinsipp, ved bruk av de samme kategoriene definert av SSB – se Tabell 4 i [forprosjekt rapport](https://niva.brage.unit.no/niva-xmlui/bitstream/handle/11250/2985726/7726-2022%2bhigh.pdf?sequence=1&isAllowed=y)).\n",
    ">\n",
    "> Python-kode vil bli utviklet for å lese data fra malen og estimere stedsspesifikke utslipp av nitrogen og fosfor fra små anlegg basert på metoden som brukes av SSB. Disse estimatene kan deretter brukes i modellen i stedet for de aggregerte SSB-oppsummeringene for å gi bedre romlig oppløsning, hvis ønskelig.\n",
    ">\n",
    "> Vær oppmerksom på følgende begrensninger for omfanget av denne oppgaven:\n",
    ">\n",
    ">  * SSB har foreløpig ingen metode for å estimere TOC (BOF/KOF) eller SS for små anlegg. For å forbli konsistent med nasjonal statistikk, vil denne oppgaven ikke forsøke å utvikle nye metoder for disse komponentene. Om ønskelig kan SSB utvide sin arbeidsflyt til å inkludere TOC og SS for små anlegg i de nasjonale datasettene, og disse metodene kan deretter inkluderes i TEOTIL. Metodeutvikling for TOC og SS krever en egen kontrakt mellom Miljødirektoratet og SSB. Som standard vil denne oppgaven fokusere på å forbedre den romlige oppløsningen av N- og P-utslipp fra små anlegg på en måte som er forenlig med nasjonal statistikk.\n",
    "> \n",
    ">  * Denne oppgaven inkluderer ikke timer for å finne og kompilere inndatasett. Miljødirektoratet (eller andre relevante myndigheter) er ansvarlig for å levere data ved bruk av en avtalt inndatamal.\n",
    ">\n",
    "> For å unngå «dobbelttelling» av utslipp fra små anlegg, er det viktig å skille høyoppløselige data fra lokale myndigheter fra nasjonale data fra SSB. I praksis, for en enkelt TEOTIL-kjøring, betyr dette ett av følgende alternativer:\n",
    ">\n",
    ">  * Detaljerte data er tilgjengelige for hele interesseregionen (dvs. de nasjonale sammendragene fra SSB er ikke nødvendig).\n",
    "> \n",
    ">  * Det er ikke nødvendig med detaljerte simuleringer (dvs. de nasjonale sammendragene fra SSB kan brukes overalt).\n",
    "> \n",
    ">  * Detaljert data er tilgjengelig for en eller flere komplette kommuner. I dette tilfellet kan disse kommuner fjernes fra de nasjonale sammendragene og erstattes av de mer detaljerte datasettene.\n",
    "> \n",
    "> Merk at det kan være vanskelig å bruke mer detaljerte data hvis de bare er tilgjengelig for deler av en kommune, siden det ikke er noen åpenbar måte å vite hvor mye for den nasjonale totalen for den kommunen som er representert i det detaljerte datasettet. \n",
    "\n",
    "## 1. Modifying TEOTIL3\n",
    "\n",
    "TEOTIL3 already includes factors for small wastewater sites that are used to subdivide N and P, and to convert BOF & KOF to TOC (data table [here](https://github.com/NIVANorge/teotil3/blob/main/data/point_source_treatment_types.csv)). For this task, I have modified the TEOTIL3 database so that `teotil3.point_source_locations` will now accept data for `Small wastewater` sites (in addition to `Large wastewater`, `Industry` and `Aquaculture`, which were included previously). This means that, if point-specific \"small wastewater\" data can be provided as described in the proposal text above, these data can be handled in exactly the same way as other point sources. \n",
    "\n",
    "In addition, an Excel input template has been proposed ([here](https://github.com/NIVANorge/teotil3/blob/main/data/teotil3_small_wastewater_detailed_template.xlsm)) to make it possible for organisations such as Miljødirektoratet to supply the required information.\n",
    "\n",
    "## 2. Issues to be resolved\n",
    "\n",
    "Gathering the necessary data to fill-in the template seems difficult, and Torstein at Miljødirektoratet has suggested we should consider a different approach. Miljødirektoratet has access to Matrikkeldatabasen (the land register/cadastral database) which includes some building-specific information at national scale. Unfortunately, this database does not include either the site type (renseprinsipp) or the number of people connected, which are core pieces of information required to reproduce SSB's workflow. We would therefore need a different (and simpler) approach to estimate nutrient losses for site-specific data.\n",
    "\n",
    "As far as possible, I would like output from TEOTIL to be compatible with the official national statistics published by SSB. I am therefore reluctant to switch to an entirely different method for the small sites - especially as it would likely require a less robust methodology for calculating nutrient losses.\n",
    "\n",
    "**At present, this task remains unresolved.** TEOTIL3 has been modified to generate site-specific estimates for small wastewater sites using the methodology developed by SSB, but so far it has not been possible to gather the necessary input data to perform these calculations. The only viable alternative seems to be a less robust set of calculations based on the data held in the Land Registry, but I believe this approach may create more problems than it solves.\n",
    "\n",
    "I have created an issue [here](https://github.com/NIVANorge/teotil3/issues/28) to track progress."
   ]
  }
 ],
 "metadata": {
  "kernelspec": {
   "display_name": "Python 3 (ipykernel)",
   "language": "python",
   "name": "python3"
  },
  "language_info": {
   "codemirror_mode": {
    "name": "ipython",
    "version": 3
   },
   "file_extension": ".py",
   "mimetype": "text/x-python",
   "name": "python",
   "nbconvert_exporter": "python",
   "pygments_lexer": "ipython3",
   "version": "3.11.6"
  }
 },
 "nbformat": 4,
 "nbformat_minor": 5
}
