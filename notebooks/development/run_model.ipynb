{
 "cells": [
  {
   "cell_type": "code",
   "execution_count": null,
   "id": "84b0474a-1040-4dac-9c3f-9f8ea45074d9",
   "metadata": {
    "tags": []
   },
   "outputs": [],
   "source": [
    "# # Run this and then restart the kernel at the start of each session to install\n",
    "# # 'teotil3' in development mode\n",
    "# !pip install -e /home/jovyan/projects/teotil3/"
   ]
  },
  {
   "cell_type": "code",
   "execution_count": null,
   "id": "b38555c6-439f-414e-b23c-1f86ecf88dc5",
   "metadata": {
    "tags": []
   },
   "outputs": [],
   "source": [
    "import os\n",
    "import warnings\n",
    "\n",
    "import nivapy3 as nivapy\n",
    "import pandas as pd\n",
    "import teotil3 as teo\n",
    "from tqdm.notebook import tqdm\n",
    "\n",
    "warnings.simplefilter(action=\"ignore\", category=FutureWarning)"
   ]
  },
  {
   "cell_type": "markdown",
   "id": "6d473c7f-46de-4757-bf6f-cff3d2617485",
   "metadata": {},
   "source": [
    "# Run model\n",
    "\n",
    "## 1. Generate input files\n",
    "\n",
    "The code below generates model input files from the \"raw\" data in the TEOTIL3 database."
   ]
  },
  {
   "cell_type": "code",
   "execution_count": null,
   "id": "b56f43f5-2123-4197-b525-d8a12d985aca",
   "metadata": {
    "tags": []
   },
   "outputs": [],
   "source": [
    "eng = nivapy.da.connect_postgis()"
   ]
  },
  {
   "cell_type": "code",
   "execution_count": null,
   "id": "8acc62ed-fd66-4bd1-942f-7527f3bc03f6",
   "metadata": {
    "tags": []
   },
   "outputs": [],
   "source": [
    "# User options\n",
    "nve_data_year = 2023\n",
    "st_yr, end_yr = 2013, 2022\n",
    "\n",
    "# Parent folder in which to save model input files.\n",
    "# A subfolder will be created in this folder based on the agricultural loss\n",
    "# model chosen i.e. f\"agri_{agri_loss_model}_loss\"\n",
    "input_data_csv_fold = r\"/home/jovyan/shared/common/teotil3/annual_input_data\"\n",
    "\n",
    "# Folder for results\n",
    "result_csv_fold = r\"/home/jovyan/shared/common/teotil3/evaluation\"\n",
    "\n",
    "# Model options\n",
    "nan_to_vass = True\n",
    "add_offshore = True\n",
    "order_coastal = False  # Recommend False, except for comparison with TEOTIL2\n",
    "land_to_vass = True  # Recommend True, except for comparison with TEOTIL2\n",
    "agri_loss_model = \"annual\"  # 'annual' or 'risk'\n",
    "\n",
    "# Set output folder based on user choices\n",
    "input_data_csv_fold = os.path.join(input_data_csv_fold, f\"agri_{agri_loss_model}_loss\")"
   ]
  },
  {
   "cell_type": "code",
   "execution_count": null,
   "id": "fbb653dc-9667-4415-8e37-18668715442d",
   "metadata": {
    "tags": []
   },
   "outputs": [],
   "source": [
    "%%time\n",
    "# Generate model input files and save to disk\n",
    "\n",
    "if not os.path.exists(input_data_csv_fold):\n",
    "    os.makedirs(input_data_csv_fold)\n",
    "\n",
    "years = range(st_yr, end_yr + 1)\n",
    "for year in tqdm(years):\n",
    "    gdf = teo.io.make_input_file(\n",
    "        year,\n",
    "        nve_data_year,\n",
    "        eng,\n",
    "        out_csv_fold=input_data_csv_fold,\n",
    "        nan_to_vass=nan_to_vass,\n",
    "        add_offshore=add_offshore,\n",
    "        order_coastal=order_coastal,\n",
    "        land_to_vass=land_to_vass,\n",
    "        agri_loss_model=agri_loss_model,\n",
    "    )"
   ]
  },
  {
   "cell_type": "markdown",
   "id": "cd3dd169-8b3c-4f5a-b5a2-4696ccdf77c5",
   "metadata": {},
   "source": [
    "## 2. Run model\n",
    "\n",
    "The code below runs the model for the period of interest. Results are merged and saved to a single CSV, so this code does not need re-running unless the model or its inputs are updated."
   ]
  },
  {
   "cell_type": "code",
   "execution_count": null,
   "id": "72b0d563-87b4-4d85-a4e4-cd93c52b1bf9",
   "metadata": {},
   "outputs": [],
   "source": [
    "# Run TEOTIL3\n",
    "years = range(st_yr, end_yr + 1)\n",
    "df_list = []\n",
    "for year in tqdm(years):\n",
    "    csv_path = os.path.join(\n",
    "        input_data_csv_fold,\n",
    "        f\"teotil3_input_data_nve{nve_data_year}_{year}.csv\",\n",
    "    )\n",
    "    g = teo.model.run_model(\n",
    "        csv_path,\n",
    "        id_col=\"regine\",\n",
    "        next_down_col=\"regine_down\",\n",
    "        totals_from_subfracs=True,\n",
    "    )\n",
    "    res_df = teo.model.model_to_dataframe(\n",
    "        g, id_col=\"regine\", next_down_col=\"regine_down\"\n",
    "    )\n",
    "    res_df[\"year\"] = year\n",
    "    df_list.append(res_df)\n",
    "mod_df = pd.concat(df_list, axis=\"rows\")\n",
    "\n",
    "mod_csv = os.path.join(\n",
    "    result_csv_fold,\n",
    "    f\"teo3_results_nve{nve_data_year}_{st_yr}-{end_yr}_agri-{agri_loss_model}-loss.csv\",\n",
    ")\n",
    "mod_df.to_csv(mod_csv, index=False)"
   ]
  }
 ],
 "metadata": {
  "kernelspec": {
   "display_name": "Python 3 (ipykernel)",
   "language": "python",
   "name": "python3"
  },
  "language_info": {
   "codemirror_mode": {
    "name": "ipython",
    "version": 3
   },
   "file_extension": ".py",
   "mimetype": "text/x-python",
   "name": "python",
   "nbconvert_exporter": "python",
   "pygments_lexer": "ipython3",
   "version": "3.11.6"
  }
 },
 "nbformat": 4,
 "nbformat_minor": 5
}
