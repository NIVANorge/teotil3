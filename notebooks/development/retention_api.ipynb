{
 "cells": [
  {
   "cell_type": "markdown",
   "id": "09d914b1-7f7e-4519-bb18-cde4e29361a7",
   "metadata": {},
   "source": [
    "# Retention API for TEOTIL3\n",
    "\n",
    "Outline code for API providing retention/transmission estimates from any location in Norway to the coast. See e-mail from Torstein Finnesand received 21.11.2023 at 07.34 for details.\n",
    "\n",
    "Needs refining and deploying. Also consider making it standards-compliant using [pygeoapi](https://pygeoapi.io/), as suggested by Kim."
   ]
  },
  {
   "cell_type": "code",
   "execution_count": 1,
   "id": "889dc386-2d45-4451-9cb6-34d3368aa64e",
   "metadata": {
    "tags": []
   },
   "outputs": [
    {
     "name": "stdout",
     "output_type": "stream",
     "text": [
      "{'regine': '012.CB5D', 'vassom': '012', 'a_cat_poly_km2': 4.66759, 'upstr_a_km2': 4.67, 'ospar_region': 'Skagerrak', 'komnr_2014': '0615', 'fylnr_2014': '06', 'komnr_2015': '0615', 'fylnr_2015': '06', 'komnr_2016': '0615', 'fylnr_2016': '06', 'komnr_2017': '0615', 'fylnr_2017': '06', 'komnr_2018': '0615', 'fylnr_2018': '06', 'komnr_2019': '0615', 'fylnr_2019': '06', 'komnr_2020': '3039', 'fylnr_2020': '30', 'komnr_2021': '3039', 'fylnr_2021': '30', 'komnr_2022': '3039', 'fylnr_2022': '30', 'komnr_2023': '3039', 'fylnr_2023': '30', 'a_agri_km2': 0.0, 'a_glacier_km2': 0.0, 'a_lake_km2': 0.26116, 'a_other_km2': 0.0, 'a_sea_km2': 0.0, 'a_upland_km2': 0.53124, 'a_urban_km2': 0.0, 'a_wood_km2': 3.87519, 'ar50_tot_a_km2': 4.66759, 'a_cat_land_km2': 4.66759, 'a_lake_nve_km2': 0.311034, 'runoff_mm/yr': 569, 'q_cat_m3/s': 0.08416}\n"
     ]
    }
   ],
   "source": [
    "import geopandas as gpd\n",
    "from fastapi import FastAPI\n",
    "from fastapi.testclient import TestClient\n",
    "from pydantic import BaseModel\n",
    "from shapely.geometry import Point\n",
    "\n",
    "GPKG_PATH = r\"/home/jovyan/shared/common/teotil3/core_data/tidied/teotil3_data.gpkg\"\n",
    "\n",
    "app = FastAPI(docs_url=\"/\", title=\"TEOTIL3 API\")\n",
    "\n",
    "\n",
    "class Coordinate(BaseModel):\n",
    "    easting: float\n",
    "    northing: float\n",
    "\n",
    "\n",
    "@app.post(\"/transmission_to_coast\")\n",
    "async def transmission_to_coast(coordinate: Coordinate):\n",
    "    # Create point\n",
    "    point = Point(coordinate.easting, coordinate.northing)\n",
    "\n",
    "    # Get polygons\n",
    "    gdf = gpd.read_file(\n",
    "        GPKG_PATH,\n",
    "        layer=\"regines\",\n",
    "        driver=\"GPKG\",\n",
    "        bbox=[point.x, point.y, point.x, point.y],\n",
    "    )\n",
    "\n",
    "    # Find polygon containing point\n",
    "    for index, row in gdf.iterrows():\n",
    "        if row[\"geometry\"].contains(point):\n",
    "            data = row.to_dict()\n",
    "            del data[\"geometry\"]\n",
    "            return data\n",
    "\n",
    "    return {\"error\": \"No polygon contains the provided point\"}\n",
    "\n",
    "\n",
    "# Testing\n",
    "client = TestClient(app)\n",
    "\n",
    "# Langtjern co-ords\n",
    "east, north = 209438.18851, 6704338.36601\n",
    "coords = {\"easting\": east, \"northing\": north}\n",
    "\n",
    "# Query API\n",
    "response = client.post(\"/transmission_to_coast\", json=coords)\n",
    "print(response.json())"
   ]
  }
 ],
 "metadata": {
  "kernelspec": {
   "display_name": "Python 3 (ipykernel)",
   "language": "python",
   "name": "python3"
  },
  "language_info": {
   "codemirror_mode": {
    "name": "ipython",
    "version": 3
   },
   "file_extension": ".py",
   "mimetype": "text/x-python",
   "name": "python",
   "nbconvert_exporter": "python",
   "pygments_lexer": "ipython3",
   "version": "3.10.11"
  }
 },
 "nbformat": 4,
 "nbformat_minor": 5
}
