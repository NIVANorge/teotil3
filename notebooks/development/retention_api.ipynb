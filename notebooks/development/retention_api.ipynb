{
 "cells": [
  {
   "cell_type": "markdown",
   "id": "09d914b1-7f7e-4519-bb18-cde4e29361a7",
   "metadata": {},
   "source": [
    "# Retention API for TEOTIL3\n",
    "\n",
    "Outline code for API providing retention/transmission estimates from any location in Norway to the coast. See e-mail from Torstein Finnesand received 21.11.2023 at 07.34 for details.\n",
    "\n",
    "Needs refining and deploying. Also consider making it standards-compliant using [pygeoapi](https://pygeoapi.io/), as suggested by Kim."
   ]
  },
  {
   "cell_type": "code",
   "execution_count": 1,
   "id": "889dc386-2d45-4451-9cb6-34d3368aa64e",
   "metadata": {
    "tags": []
   },
   "outputs": [
    {
     "name": "stdout",
     "output_type": "stream",
     "text": [
      "{'regine': '012.CB5D', 'totp': 38.7, 'tdp': 58.8, 'tpp': 20.4, 'totn': 68.3, 'din': 61.4, 'ton': 87.7, 'toc': 50.8, 'ss': 0.1}\n"
     ]
    }
   ],
   "source": [
    "import geopandas as gpd\n",
    "from fastapi import FastAPI\n",
    "from fastapi.testclient import TestClient\n",
    "from pydantic import BaseModel\n",
    "from shapely.geometry import Point\n",
    "\n",
    "GPKG_PATH = r\"/home/jovyan/shared/common/teotil3/core_data/tidied/teotil3_data.gpkg\"\n",
    "\n",
    "app = FastAPI(docs_url=\"/\", title=\"TEOTIL3 API\")\n",
    "\n",
    "\n",
    "class Coordinate(BaseModel):\n",
    "    easting: float\n",
    "    northing: float\n",
    "\n",
    "\n",
    "class OutputData(BaseModel):\n",
    "    regine: str\n",
    "    totp: float\n",
    "    tdp: float\n",
    "    tpp: float\n",
    "    totn: float\n",
    "    din: float\n",
    "    ton: float\n",
    "    toc: float\n",
    "    ss: float\n",
    "\n",
    "\n",
    "@app.post(\"/transmission_to_coast\")\n",
    "async def transmission_to_coast(coordinate: Coordinate):\n",
    "    \"\"\"Estimate transmission of nutrients from any point in Norway to the coast.\n",
    "\n",
    "    Args\n",
    "        coordinate: Dict. Co-ordinate pair to query in ETRS89-based UTM Zone 33\n",
    "                    coordinates (EPSG 25833).\n",
    "\n",
    "    Returns\n",
    "        Dict. Transmission factors for the regine containing the specificed\n",
    "        point.\n",
    "    \"\"\"\n",
    "    # Create point\n",
    "    point = Point(coordinate.easting, coordinate.northing)\n",
    "\n",
    "    # Get polygons\n",
    "    gdf = gpd.read_file(\n",
    "        GPKG_PATH,\n",
    "        layer=\"transmission_to_coast\",\n",
    "        driver=\"GPKG\",\n",
    "        bbox=[point.x, point.y, point.x, point.y],\n",
    "    )\n",
    "\n",
    "    # Find polygon containing point\n",
    "    for index, row in gdf.iterrows():\n",
    "        if row[\"geometry\"].contains(point):\n",
    "            data = row.to_dict()\n",
    "            del data[\"geometry\"]\n",
    "            return OutputData(**data)\n",
    "\n",
    "    return {\"error\": \"No polygon contains the provided point\"}\n",
    "\n",
    "\n",
    "# Testing\n",
    "client = TestClient(app)\n",
    "\n",
    "# Langtjern co-ords\n",
    "east, north = 209438, 6704338\n",
    "coords = {\"easting\": east, \"northing\": north}\n",
    "\n",
    "# Query API\n",
    "response = client.post(\"/transmission_to_coast\", json=coords)\n",
    "print(response.json())"
   ]
  },
  {
   "cell_type": "code",
   "execution_count": 2,
   "id": "6a007d4f-460d-4653-b952-72866a8599c1",
   "metadata": {
    "tags": []
   },
   "outputs": [
    {
     "name": "stdout",
     "output_type": "stream",
     "text": [
      "{'openapi': '3.1.0', 'info': {'title': 'TEOTIL3 API', 'version': '0.1.0'}, 'paths': {'/transmission_to_coast': {'post': {'summary': 'Transmission To Coast', 'description': 'Estimate transmission of nutrients from any point in Norway to the coast.\\n\\nArgs\\n    coordinate: Dict. Co-ordinate pair to query in ETRS89-based UTM Zone 33\\n                coordinates (EPSG 25833).\\n\\nReturns\\n    Dict. Transmission factors for the regine containing the specificed\\n    point.', 'operationId': 'transmission_to_coast_transmission_to_coast_post', 'requestBody': {'content': {'application/json': {'schema': {'$ref': '#/components/schemas/Coordinate'}}}, 'required': True}, 'responses': {'200': {'description': 'Successful Response', 'content': {'application/json': {'schema': {}}}}, '422': {'description': 'Validation Error', 'content': {'application/json': {'schema': {'$ref': '#/components/schemas/HTTPValidationError'}}}}}}}}, 'components': {'schemas': {'Coordinate': {'properties': {'easting': {'type': 'number', 'title': 'Easting'}, 'northing': {'type': 'number', 'title': 'Northing'}}, 'type': 'object', 'required': ['easting', 'northing'], 'title': 'Coordinate'}, 'HTTPValidationError': {'properties': {'detail': {'items': {'$ref': '#/components/schemas/ValidationError'}, 'type': 'array', 'title': 'Detail'}}, 'type': 'object', 'title': 'HTTPValidationError'}, 'ValidationError': {'properties': {'loc': {'items': {'anyOf': [{'type': 'string'}, {'type': 'integer'}]}, 'type': 'array', 'title': 'Location'}, 'msg': {'type': 'string', 'title': 'Message'}, 'type': {'type': 'string', 'title': 'Error Type'}}, 'type': 'object', 'required': ['loc', 'msg', 'type'], 'title': 'ValidationError'}}}}\n"
     ]
    }
   ],
   "source": [
    "response = client.get(\"/openapi.json\")\n",
    "print(response.json())"
   ]
  }
 ],
 "metadata": {
  "kernelspec": {
   "display_name": "Python 3 (ipykernel)",
   "language": "python",
   "name": "python3"
  },
  "language_info": {
   "codemirror_mode": {
    "name": "ipython",
    "version": 3
   },
   "file_extension": ".py",
   "mimetype": "text/x-python",
   "name": "python",
   "nbconvert_exporter": "python",
   "pygments_lexer": "ipython3",
   "version": "3.10.11"
  }
 },
 "nbformat": 4,
 "nbformat_minor": 5
}
