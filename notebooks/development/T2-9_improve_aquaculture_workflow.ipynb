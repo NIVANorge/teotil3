{
 "cells": [
  {
   "cell_type": "code",
   "execution_count": 1,
   "id": "699d542c-4c3a-4b80-8b87-26f6502fba5d",
   "metadata": {},
   "outputs": [],
   "source": [
    "# # Run this and then restart the kernel at the start of each session to install\n",
    "# # 'teotil3' in development mode\n",
    "# !pip install -e /home/jovyan/projects/teotil3/"
   ]
  },
  {
   "cell_type": "code",
   "execution_count": 2,
   "id": "93296978-1898-4989-82f7-d45abef90f63",
   "metadata": {},
   "outputs": [],
   "source": [
    "import nivapy3 as nivapy\n",
    "import pandas as pd\n",
    "import teotil3 as teo"
   ]
  },
  {
   "cell_type": "code",
   "execution_count": 3,
   "id": "2e01be02-119c-4cbc-9dad-d55ea531bdd8",
   "metadata": {},
   "outputs": [
    {
     "name": "stdout",
     "output_type": "stream",
     "text": [
      "Connection successful.\n"
     ]
    }
   ],
   "source": [
    "# eng = nivapy.da.connect_postgis(admin=True)\n",
    "eng = nivapy.da.connect_postgis()"
   ]
  },
  {
   "cell_type": "markdown",
   "id": "15138488-7699-4ca3-b3b2-db066f8fd505",
   "metadata": {},
   "source": [
    "# Task 2.9: Improve the workflow for aquaculture\n",
    "\n",
    "From the proposal text:\n",
    "\n",
    "> **Oppgave 2.9: Forbedre arbeidsflyten for akvakultur**\n",
    ">\n",
    "> En kort litteraturgjennomgang vil bli foretatt for å identifisere typiske proporsjoner av DIN, TON, TDP og TPP i utslipp fra akvakultur. Arbeidsflyten for total N og P fra anlegg i sjøvann vil bli omkodet for å gjøre nøkkelmodellparametere mer tydelige og enklere å oppdatere. Beregningen for TOC vil også bli implementert, som beskrevet i avsnitt 6.2.4 av hovedrapporten. SS anses som ikke relevant for akvakultur.\n",
    "\n",
    "## 1. Clarify calculations for TOTN and TOTP\n",
    "\n",
    "The existing aquaculture workflow for TOTN and TOTP is described [here](https://niva.brage.unit.no/niva-xmlui/bitstream/handle/11250/2985726/7726-2022+high.pdf?sequence=1#page=29). The old model already includes functions to estimate fluxes of TOTN and TOTP using this method and the approach will not change in the new version. However, the code needs restructuring and clarifying because parameters in the original version are neither obvious nor easily changed.\n",
    "\n",
    "The the `preprocessing` module of TEOTIL3 includes a function named `estimate_aquaculture_nutrient_inputs` with the following call signature\n",
    "\n",
    "    estimate_aquaculture_nutrient_inputs(\n",
    "        df, year, eng, cu_tonnes=None, species_ids=[71401, 71101]\n",
    "    )\n",
    "\n",
    "By default, the function considers only species IDs 71401 and 71101 (salmon and rainbow trout), but it could be easily adapted to include other species too, if desired. In addition, all parameters involved in the calculations for N, P and C have been moved to a parameter file named `aquaculture_productivity_coefficients.csv`, which is hosted online [here](https://github.com/NIVANorge/teotil3/blob/main/data/aquaculture_productivity_coefficients.csv). The new model reads values directly from the most recent version of this file hosted online, so as long as it is kept up-to-date the model will always use the latest coefficients for the aquaculture calculations.\n",
    "\n",
    "## 2. Subdivide TOTN and TOTP\n",
    "\n",
    "The SINTEF report by [Broch and Ellingsen (2020)](https://www.sintef.no/globalassets/sintef-ocean/arrangement/slam/l1.1-delrapport-1-kvantifisering-av-utslipp.pdf) estimates discharges of C, N and P from salmon and rainbow trout farms in seawater, including subfractions of N and P. The methodology is similar - but not identical - to that used in TEOTIL and overall the two workflows seem compatible. Table 3 of this report shows that typical proportions of N and P subfractions remain approximately fixed throughout the year. In the context of TEOTIL, these results can be summarised as follows:\n",
    "\n",
    " * **TOTN**: 69% DIN and 31% TON\n",
    " * **TOTP**: 71% TPP and 29% TDP\n",
    "\n",
    "These fractions are included in the file [here](https://github.com/NIVANorge/teotil3/blob/main/data/point_source_treatment_types.csv), which is used to subdivide N and P from different point sources.\n",
    "\n",
    "## 3. Estimate TOC\n",
    "\n",
    "The proposed new workflow for TOC is described [here](https://niva.brage.unit.no/niva-xmlui/bitstream/handle/11250/2985726/7726-2022+high.pdf?sequence=1#page=43) and implemented by the functions `calculate_aquaculture_toc_loss` and `estimate_aquaculture_nutrient_inputs` within the `preprocessing` module.\n",
    "\n",
    "## 4. TEOTIL3 workflow\n",
    "\n",
    "### 4.1. Raw data\n",
    "\n",
    "Raw monthly data are provided each year by Fiskeridirektoratet in an encrypted Excel file. TEOTIL attempts to parse these data correctly, but it is a good idea to double-check the file manually first.\n",
    "\n",
    "### 4.2. TEOTIL3 functions overview\n",
    "\n",
    "`teo.preprocessing` contains the following new functions for handling data from aquaculture:\n",
    "\n",
    " * `read_raw_aquaculture_data` reads the raw Excel file and identifies any site IDs that are not already in the database. This function returns two objects: (i) a geodataframe of point co-ordinates for new sites to be added to the database, and (ii) a dataframe of raw monthly data for all aquaculture sites in the specified year. The geodataframe is reprojected to EPSG 25833, ready for upload to `teotil3.point_source_locations`. The dataframe should be passed to the function below to estimate nutrient losses\n",
    " \n",
    " * `estimate_aquaculture_nutrient_inputs` is the main function for estimating nutrient losses from aquaculture. By default, **the function estimates losses of TOTN, DIN, TON, TOTP, TDP, TDP and TOC from fish farms producing salmon and rainbow trout** (following the approach outlined in the forprosjekt report - see the links above). Optionally, the user can specify the total annual amount of copper used nationally by the aquaculture industry (keyword argument `cu_tonnes`), and this will be divided among all active sites in proportion to the estimated losses of TOTP. If desired, users can also specify a list of species IDs to consider instead of just salmon and trout (keyword argument `species_ids`). Note, however, that at present the same feed and productivity coefficients, and the same Feed Conversion Ratio, are assumed for all species\n",
    " \n",
    " * `get_annual_copper_usage_aquaculture` is a convenience function that reads the file [here](https://github.com/NIVANorge/teotil3/blob/main/data/aquaculture_annual_copper_usage.csv) and returns the total annual copper usage in aquaculture, as reported by Miljødirketoratet\n",
    " \n",
    "Key parameters in the aquaculture calculations are the proportion of nutrients by mass in the feed and produced fish ($k_{feed}$ and $k_{prod}$, respectively), as well as the national **Feed Conversion Ratio** (FCR). These values are provided by Miljødirektoratet and the ones currently used by the TEOTIL model are defined [here](https://github.com/NIVANorge/teotil3/blob/main/data/aquaculture_productivity_coefficients.csv).\n",
    "\n",
    "### 4.3. Example processing\n",
    "\n",
    "The code below processes the data provided by Fiskeridirektoratet (but does not add it to the database - see the notebook for [Task 2.1e](https://nbviewer.org/github/NIVANorge/teotil3/blob/main/notebooks/development/T2-1e_annual_data_upload.ipynb) for a complete annual update workflow)."
   ]
  },
  {
   "cell_type": "code",
   "execution_count": 4,
   "id": "b656a430-473d-4b84-8589-08e1b567cefe",
   "metadata": {},
   "outputs": [
    {
     "name": "stdout",
     "output_type": "stream",
     "text": [
      "0 locations do not have co-ordinates in this year's data.\n",
      "0 locations are not in the database.\n",
      "The total annual copper lost to water from aquaculture is 1308.1 tonnes.\n"
     ]
    },
    {
     "data": {
      "text/html": [
       "<div>\n",
       "<style scoped>\n",
       "    .dataframe tbody tr th:only-of-type {\n",
       "        vertical-align: middle;\n",
       "    }\n",
       "\n",
       "    .dataframe tbody tr th {\n",
       "        vertical-align: top;\n",
       "    }\n",
       "\n",
       "    .dataframe thead th {\n",
       "        text-align: right;\n",
       "    }\n",
       "</style>\n",
       "<table border=\"1\" class=\"dataframe\">\n",
       "  <thead>\n",
       "    <tr style=\"text-align: right;\">\n",
       "      <th></th>\n",
       "      <th>site_id</th>\n",
       "      <th>in_par_id</th>\n",
       "      <th>year</th>\n",
       "      <th>value</th>\n",
       "    </tr>\n",
       "  </thead>\n",
       "  <tbody>\n",
       "    <tr>\n",
       "      <th>0</th>\n",
       "      <td>10029</td>\n",
       "      <td>107</td>\n",
       "      <td>2021</td>\n",
       "      <td>5354.154754</td>\n",
       "    </tr>\n",
       "    <tr>\n",
       "      <th>1</th>\n",
       "      <td>10041</td>\n",
       "      <td>107</td>\n",
       "      <td>2021</td>\n",
       "      <td>12420.154769</td>\n",
       "    </tr>\n",
       "    <tr>\n",
       "      <th>2</th>\n",
       "      <td>10050</td>\n",
       "      <td>107</td>\n",
       "      <td>2021</td>\n",
       "      <td>12225.427231</td>\n",
       "    </tr>\n",
       "    <tr>\n",
       "      <th>3</th>\n",
       "      <td>10054</td>\n",
       "      <td>107</td>\n",
       "      <td>2021</td>\n",
       "      <td>49565.907688</td>\n",
       "    </tr>\n",
       "    <tr>\n",
       "      <th>4</th>\n",
       "      <td>10080</td>\n",
       "      <td>107</td>\n",
       "      <td>2021</td>\n",
       "      <td>70920.013671</td>\n",
       "    </tr>\n",
       "  </tbody>\n",
       "</table>\n",
       "</div>"
      ],
      "text/plain": [
       "  site_id  in_par_id  year         value\n",
       "0   10029        107  2021   5354.154754\n",
       "1   10041        107  2021  12420.154769\n",
       "2   10050        107  2021  12225.427231\n",
       "3   10054        107  2021  49565.907688\n",
       "4   10080        107  2021  70920.013671"
      ]
     },
     "execution_count": 4,
     "metadata": {},
     "output_type": "execute_result"
    }
   ],
   "source": [
    "# Year of interest\n",
    "year = 2021\n",
    "\n",
    "xl_path = (\n",
    "    f\"/home/jovyan/shared/teotil3/point_data/{year}/fiske_oppdret_{year}_raw.xlsx\"\n",
    ")\n",
    "xl_sheet = f\"fiskeoppdrett_{year}\"\n",
    "\n",
    "cu_tonnes = teo.preprocessing.get_annual_copper_usage_aquaculture(year)\n",
    "nidb_gdf, df = teo.preprocessing.read_raw_aquaculture_data(\n",
    "    xl_path, xl_sheet, year, eng\n",
    ")\n",
    "df = teo.preprocessing.estimate_aquaculture_nutrient_inputs(\n",
    "    df, year, eng, cu_tonnes=cu_tonnes, species_ids=[71401, 71101]\n",
    ")\n",
    "\n",
    "if nidb_gdf is not None:\n",
    "    print(f\"\\n{len(nidb_gdf)} locations should be added to the database:\")\n",
    "    display(nidb_gdf)\n",
    "    \n",
    "df.head()"
   ]
  }
 ],
 "metadata": {
  "kernelspec": {
   "display_name": "Python 3 (ipykernel)",
   "language": "python",
   "name": "python3"
  },
  "language_info": {
   "codemirror_mode": {
    "name": "ipython",
    "version": 3
   },
   "file_extension": ".py",
   "mimetype": "text/x-python",
   "name": "python",
   "nbconvert_exporter": "python",
   "pygments_lexer": "ipython3",
   "version": "3.10.6"
  }
 },
 "nbformat": 4,
 "nbformat_minor": 5
}
