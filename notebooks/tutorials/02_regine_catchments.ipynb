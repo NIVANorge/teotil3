{
 "cells": [
  {
   "cell_type": "code",
   "execution_count": null,
   "id": "121300a2-2802-439f-9afb-85591bad4c8d",
   "metadata": {
    "tags": []
   },
   "outputs": [],
   "source": [
    "import os\n",
    "import pprint as pp\n",
    "\n",
    "import geopandas as gpd\n",
    "import matplotlib.pyplot as plt\n",
    "import nivapy3 as nivapy\n",
    "import pandas as pd\n",
    "import teotil3 as teo"
   ]
  },
  {
   "cell_type": "markdown",
   "id": "9b835929-65bf-490f-938e-1d6fe29c136e",
   "metadata": {},
   "source": [
    "# TEOTIL3 \n",
    "# Tutorial 02: NVE's \"regine\" catchments\n",
    "\n",
    "Although, in principle, TEOTIL3 can be used with any user-defined set of catchments, in practice it is almost always used with [NVE's \"regine\" catchment network](https://www.nve.no/kart/kartdata/vassdragsdata/nedborfelt-regine/), which provides the most detailed subdivision of Norwegian watersheds currently available. Within the regine dataset, each catchment (or sub-, inter- or coastal catchment) is assigned a unique ID based on its position in the catchment hierarchy (see [here](https://www.nve.no/media/2297/regines-inndelingssystem.pdf) for a detailed description).\n",
    "\n",
    "As described in Tutorial 01, one of the core inputs to TEOTIL3 is an adjacency matrix describing hydrological connectivity between catchments. TEOTIL3 includes an algorithm to determine the hydrological order from the regine codes - see the notebook for `T2-2`, [here](https://nbviewer.org/github/NIVANorge/teotil3/blob/main/notebooks/development/T2-2_catchment_hierarchy.ipynb), for details. **This algortihm is not perfect**, since the regine codes alone do not contain enough information to uniquely determine hydrological sorting. Nevertheless, the new algorithm includes a number of improvements compared to previous versions of the model (see [here](https://github.com/NIVANorge/teotil3/issues/11) for a comparison).\n",
    "\n",
    "This tutorial illustrates some features of TEOTIL3 designed to make it easier to work with the regine catchments."
   ]
  },
  {
   "cell_type": "markdown",
   "id": "59e540a4-0f06-4e06-bb19-68d96918967d",
   "metadata": {},
   "source": [
    "## 1. Get geospatial data for the regine catchments\n",
    "\n",
    "Core datasets for TEOTIL3 - including the regine catchments - have been updated as part of Task 2.1 (see the development notebooks [here](https://github.com/NIVANorge/teotil3/tree/main/notebooks/development)). The code below reads the latest catchment dataset, together with the latest administrative boundaries (both from 2022)."
   ]
  },
  {
   "cell_type": "code",
   "execution_count": null,
   "id": "ee264385-40a5-4fc3-889d-4e62d7eadecc",
   "metadata": {
    "tags": []
   },
   "outputs": [],
   "source": [
    "# Connect to JupyterHub's PostGIS database\n",
    "eng = nivapy.da.connect_postgis()"
   ]
  },
  {
   "cell_type": "code",
   "execution_count": null,
   "id": "a779e8e0-3387-4633-b274-72e5f908d7be",
   "metadata": {
    "tags": []
   },
   "outputs": [],
   "source": [
    "# Define datasets of interest\n",
    "# Year for admin. boundaries\n",
    "admin_year = 2022\n",
    "\n",
    "reg_gdf = teo.io.get_regine_geodataframe(eng, admin_year)\n",
    "reg_gdf.head()"
   ]
  },
  {
   "cell_type": "markdown",
   "id": "ac4e1249-9687-4dea-a6e2-12bbbd302544",
   "metadata": {},
   "source": [
    "## 2. Determine hydrological connectivity\n",
    "\n",
    "The function `teo.io.assign_regine_hierarchy` attempts to determine the hydrological order from the regine codes. See [this notebook](https://nbviewer.org/github/NIVANorge/teotil3/blob/main/notebooks/development/T2-2_catchment_hierarchy.ipynb) for a description of how the algorithm works, and the issue [here](https://github.com/NIVANorge/teotil3/issues/11) for an overview of its limitations."
   ]
  },
  {
   "cell_type": "code",
   "execution_count": null,
   "id": "e138781b-3e82-465c-bfd7-40703b8a410c",
   "metadata": {
    "tags": []
   },
   "outputs": [],
   "source": [
    "# Determine hydrological connectivity\n",
    "reg_gdf = teo.io.assign_regine_hierarchy(\n",
    "    reg_gdf,\n",
    "    regine_col=\"regine\",\n",
    "    regine_down_col=\"regine_down\",\n",
    "    order_coastal=False,\n",
    "    nan_to_vass=True,\n",
    "    land_to_vass=True,\n",
    "    add_offshore=True,\n",
    ")\n",
    "reg_gdf.head()"
   ]
  },
  {
   "cell_type": "markdown",
   "id": "fb25ef04-001e-47e3-a2b5-ab9f262533fc",
   "metadata": {},
   "source": [
    "## 3. Explore the regine dataset\n",
    "\n",
    "The basic regine dataset shown above does not yet contain enough information to simulate nutrient fluxes, but it does include a lot of spatial information regarding the catchments themselves. As illustrated in Tutorial 01, TEOTIL3 includes some useful tools for visualising the catchment network. The first step is to use the adjacency matrix created from the regine codes to build a directed acyclic graph (DAG) of the catchment hierarchy."
   ]
  },
  {
   "cell_type": "code",
   "execution_count": null,
   "id": "7b380724-60a4-4902-9076-9e3600b37a30",
   "metadata": {
    "tags": []
   },
   "outputs": [],
   "source": [
    "# Build network graph from adjacency matrix\n",
    "g = teo.model.build_graph(reg_gdf, id_col=\"regine\", next_down_col=\"regine_down\")"
   ]
  },
  {
   "cell_type": "markdown",
   "id": "a0831177-a6d7-4713-85c1-978f7bfc9da0",
   "metadata": {},
   "source": [
    "**This network is a representation of the entire Norwegian hydrological system** and includes data for more than 24000 (sub-)catchments. As a simple example, we will explore the network in the vicinity of regine `028.A3`."
   ]
  },
  {
   "cell_type": "code",
   "execution_count": null,
   "id": "04b253d9-6139-4959-9031-666fce009d16",
   "metadata": {
    "tags": []
   },
   "outputs": [],
   "source": [
    "# Catchment of interest\n",
    "# reg_id = \"028.A3\"\n",
    "reg_id = \"028.4A\"\n",
    "\n",
    "# Get 'local' data for catchment\n",
    "print(f\"Local attributes for catchment '{reg_id}':\")\n",
    "pp.pprint(g.nodes[reg_id][\"local\"])\n",
    "\n",
    "# Plot network upstream\n",
    "teo.vis.plot_network(g, reg_id, direct=\"up\", stat=\"local\", quant=\"a_cat_land_km2\")"
   ]
  },
  {
   "cell_type": "markdown",
   "id": "88310d92-dff5-419b-a530-227069bd8a1f",
   "metadata": {},
   "source": [
    "Similarly, by using `direct=\"down\"`, we can plot the network downstream to the coast (and into the OSPAR maritime regions - see section 3.2.4 [here](https://nivanorge.github.io/teotil2/pages/07_1000_lakes.html) for an overview of these)."
   ]
  },
  {
   "cell_type": "code",
   "execution_count": null,
   "id": "00673ed3-d3ab-4093-8b3d-36dd5b668bf4",
   "metadata": {
    "tags": []
   },
   "outputs": [],
   "source": [
    "# Plot network downstream\n",
    "teo.vis.plot_network(g, reg_id, direct=\"down\", stat=\"local\", quant=\"a_cat_land_km2\")"
   ]
  },
  {
   "cell_type": "markdown",
   "id": "456e8dfa-9484-45f9-9734-4ce5a55ca7b1",
   "metadata": {},
   "source": [
    "Because we have spatial data representing the regine catchments (i.e. because `reg_gdf` is a *geo*dataframe, rather than a standard dataframe), we can also visualise the catchments spatially using `teo.vis.plot_catchment`. In particular, note the keyword arguments `include_connected` and `direct`:\n",
    "\n",
    " * If `include_connected=False`, the `direct` argument is ignored and only the specified regine is plotted\n",
    " \n",
    " * If `include_connected=True` and `direct=\"up\"`, the specified regine will be merged with all upstream regines to create a complete catchment (rather than a sub- or inter-catchment). This will then be plotted\n",
    " \n",
    " * If `include_connected=True` and `direct=\"down\"`, the specified regine will be merged with all regines on the downstream path and then plotted\n",
    " \n",
    "These options are illustrated below."
   ]
  },
  {
   "cell_type": "code",
   "execution_count": null,
   "id": "9aa79f72-fa9c-42a4-a93a-873bb2643043",
   "metadata": {
    "tags": []
   },
   "outputs": [],
   "source": [
    "# Plot just the specified regine\n",
    "gdf, ax = teo.vis.plot_catchment(\n",
    "    g, reg_id, reg_gdf, id_col=\"regine\", include_connected=False\n",
    ")\n",
    "ax"
   ]
  },
  {
   "cell_type": "code",
   "execution_count": null,
   "id": "86960472-49d3-44ff-8731-97ebbb4deccc",
   "metadata": {},
   "outputs": [],
   "source": [
    "# Plot the specified regine and all contributing regines upstream\n",
    "gdf, ax = teo.vis.plot_catchment(\n",
    "    g, reg_id, reg_gdf, id_col=\"regine\", include_connected=True, direct=\"up\"\n",
    ")\n",
    "ax"
   ]
  },
  {
   "cell_type": "code",
   "execution_count": null,
   "id": "c09b427f-ae35-4091-82a5-69f6cc528d40",
   "metadata": {},
   "outputs": [],
   "source": [
    "# Plot the specified regine and other regines on the downstream path\n",
    "gdf, ax = teo.vis.plot_catchment(\n",
    "    g, reg_id, reg_gdf, id_col=\"regine\", include_connected=True, direct=\"down\"\n",
    ")\n",
    "ax"
   ]
  },
  {
   "cell_type": "markdown",
   "id": "bff9a055-6ced-4be5-98b4-18e21e310b80",
   "metadata": {},
   "source": [
    "Finally, because we included the keyword argument `add_offshore=True` when we assigned the regine hierarchy (see section 2, above), we can also aggregate data based on OSPAR maritime areas. For example, vassdragsområder `001` to `023` all drain to Skagerrak (see [here](https://github.com/NIVANorge/teotil3/blob/main/data/vassdragsomrader_ospar_regions.csv)), and including `add_offshore=True` means that `001_023` has been added to the adjacency matrix (by extending the basic regine dataset). The entire drainage area for Skagerrak can therefore be visualised efficiently, as shown below."
   ]
  },
  {
   "cell_type": "code",
   "execution_count": null,
   "id": "5446c1cc-07bc-4230-b49d-69f57df4a6ba",
   "metadata": {},
   "outputs": [],
   "source": [
    "gdf, ax = teo.vis.plot_catchment(\n",
    "    g, \"001_023\", reg_gdf, id_col=\"regine\", include_connected=True, direct=\"up\"\n",
    ")\n",
    "ax"
   ]
  },
  {
   "cell_type": "markdown",
   "id": "e486b2b8-42c8-4e04-899c-71c54948ea45",
   "metadata": {},
   "source": [
    "## 4. Run the model\n",
    "\n",
    "### 4.1. Regine-scale retention and transmission\n",
    "\n",
    "The regine input datasets for TEOTIL3 are produced annually by NIVA and include regine-level retention and transmission factors for different chemical variables of interest. These factors are based on lake water residence times and the Vollenwieder principle - see [Section 3.2 of the forprosjekt report](https://niva.brage.unit.no/niva-xmlui/bitstream/handle/11250/2985726/7726-2022%2bhigh.pdf?sequence=1&isAllowed=y#page=23) for a description of the approach and the development notebooks for [Tasks 2.4 and 2.5](https://github.com/NIVANorge/teotil3/tree/main/notebooks/development#task-24-estimate-residence-times) for full details and code. \n",
    "\n",
    "Tutorial 03 will demonstrate how to run the model using the \"real\" input files. First, in this tutorial, we will explore the effects of regine-scale retention by running the model using the \"real\" retention factors, but with fixed \"fake\" input fluxes. This is a useful exercise, since it gives an indication of the importance of retention within the hydrological system.\n",
    "\n",
    "### 4.2. Hypothetical examples using fixed input fluxes\n",
    "\n",
    "The \"standard\" TEOTIL3 setup run annually by NIVA considers the following water quality parameters: DIN, TON, TDP, TPP, TOC and SS. The model also estimates TOTN (as DIN + TON) and TOTP (as TDP + TPP). In the \"real\" input files, each chemical parameter is also subdivided according to source (industry, aquaculture etc.), but in this example we will ignore this.\n",
    "\n",
    "Using the regine scale transmission factors, we can accumulate inputs of each chemical variable over the catchment network. The input datasets include transmission factors for each parameter (i.e. columns named `trans_{par}`), which correspond to regine-level transmission estimated using the Vollenwieder principle (see the development notebook for [Task 2.5a](https://nbviewer.org/github/NIVANorge/teotil3/blob/main/notebooks/development/T2-5a_est_vollenweider_params_from_data.ipynb) for details). In the code below, we first extract relevant columns from the regine dataset to create an input file for TEOTIL3 (see [Tutorial 01](https://nbviewer.org/github/NIVANorge/teotil3/blob/main/notebooks/tutorials/01_basic_concepts.ipynb) for an overview of the input format). We then create new columns for each parameter named `diff_{par}_kg` and set all values equal to 1000. This hypothetical dataset represents adding uniform diffuse inputs of one tonne of each parameter to *every regine in Norway*. This is not realistic, but it is a useful way of visualising the effects of in-lake retention on accumulated fluxes (see Tutorial 03 for an example using nutrient inputs based on real data)."
   ]
  },
  {
   "cell_type": "code",
   "execution_count": null,
   "id": "e278b023-29c8-4e6f-91c7-d8be4c2abfc8",
   "metadata": {},
   "outputs": [],
   "source": [
    "# Read real input data\n",
    "year = 2020\n",
    "input_csv = f\"/home/jovyan/shared/common/teotil3/annual_input_data/teotil3_input_data_nve2023_{year}.csv\"\n",
    "input_df = pd.read_csv(input_csv)\n",
    "\n",
    "# Build \"fake\" input dataset\n",
    "par_list = [\"din\", \"ton\", \"tdp\", \"tpp\", \"toc\", \"ss\"]\n",
    "cols = [\n",
    "    \"regine\",\n",
    "    \"regine_down\",\n",
    "    \"a_cat_land_km2\",\n",
    "    \"runoff_mm/yr\",\n",
    "    \"q_cat_m3/s\",\n",
    "] + [f\"trans_{par}\" for par in par_list]\n",
    "input_df = input_df[cols]\n",
    "for par in par_list:\n",
    "    input_df[f\"diff_{par}_kg\"] = 1000  # Assign 1 tonne of 'par' to every catchment\n",
    "input_df.head()"
   ]
  },
  {
   "cell_type": "code",
   "execution_count": null,
   "id": "d8384552-7c17-409f-9fcb-d27af8112e8c",
   "metadata": {},
   "outputs": [],
   "source": [
    "%%time\n",
    "\n",
    "# Run model\n",
    "g = teo.model.run_model(\n",
    "    input_df, id_col=\"regine\", next_down_col=\"regine_down\", totals_from_subfracs=True\n",
    ")"
   ]
  },
  {
   "cell_type": "markdown",
   "id": "dc3dff7d-78a4-4ace-b86c-6776ebea8d45",
   "metadata": {},
   "source": [
    "## 5. Explore results\n",
    "\n",
    "### 5.1. Network diagrams"
   ]
  },
  {
   "cell_type": "markdown",
   "id": "81eb8858-ef58-44b0-b4c4-1cad26951ddb",
   "metadata": {},
   "source": [
    "In addition to the \"local\" attributes of network nodes illustrated in Section 3, above, after running the model the nodes now have an additional set of `accum` attributes for parameters that can be accumulated downstream. \"Accumulated\" parameters can be visualised just the same as \"local\" ones: the images below show accumulated fluxes of TOTP up- and downstream of a specific node."
   ]
  },
  {
   "cell_type": "code",
   "execution_count": null,
   "id": "bd93d14a-6946-4509-9d4b-29868865da89",
   "metadata": {},
   "outputs": [],
   "source": [
    "# Get 'accum' data for a specific catchment\n",
    "print(f\"Accumulated attributes for catchment '{reg_id}':\")\n",
    "pp.pprint(g.nodes[reg_id][\"accum\"])\n",
    "\n",
    "# Plot accumulated TOTP upstream of node\n",
    "# teo.vis.plot_network(g, reg_id, direct=\"up\", stat=\"accum\", quant=\"diff_totp_kg\")\n",
    "# teo.vis.plot_network(g, reg_id, direct=\"up\", stat=\"accum\", quant=\"diff_ss_kg\")\n",
    "teo.vis.plot_network(g, reg_id, direct=\"up\", stat=\"local\", quant=\"trans_ss\")"
   ]
  },
  {
   "cell_type": "code",
   "execution_count": null,
   "id": "865412d3-3143-490d-9a20-d99411686470",
   "metadata": {},
   "outputs": [],
   "source": [
    "# Plot network downstream\n",
    "teo.vis.plot_network(g, reg_id, direct=\"down\", stat=\"accum\", quant=\"diff_totp_kg\")"
   ]
  },
  {
   "cell_type": "markdown",
   "id": "9d653333-cf40-4d48-96e2-913b8c07571f",
   "metadata": {},
   "source": [
    "Note that the downstream fluxes begin at the selected regine (`028.A3` in this example) and continue first to the outflow of vassdragsområde `028.`, and then to progressively larger aggregations of the vassdragsområder related to the OSPAR maritime areas. The final estimated flux from all mainland vassdragsområder (`001_315`) is around 30 kilotonnes (in this hypothetical example). There are around 24000 regines in the entire national dataset and we initially added 1 tonne of TDP and 1 tonne of TPP to each of them (i.e. ~48 kilotonnes of TOTP in total), so 18 kilotonnes (40%) of the phosphorus has been retained in the system.\n",
    "\n",
    "### 5.2. Choropleth maps\n",
    "\n",
    "TEOTIL3 provides convenient functions for creating choropleth maps based on the model output. As long as you have a geospatial dataset representing your catchments of interest (in this case `reg_gdf`, from above), you can colour the catchments according to any local or accumulated attribute (see the docstring of `teo.vis.choropleth_map` for full details)."
   ]
  },
  {
   "cell_type": "code",
   "execution_count": null,
   "id": "164f0536-75a0-4184-84c6-3d31957f457b",
   "metadata": {},
   "outputs": [],
   "source": [
    "# Simple choropleth map of runoff\n",
    "teo.vis.choropleth_map(\n",
    "    g,\n",
    "    reg_gdf,\n",
    "    id_col=\"regine\",\n",
    "    stat=\"local\",\n",
    "    quant=\"runoff_mm/yr\",\n",
    "    trans=\"none\",\n",
    "    cmap=\"viridis\",\n",
    "    scheme=\"natural_breaks\",\n",
    "    n_classes=10,\n",
    "    figsize=(8, 12),\n",
    "    plot_path=None,\n",
    ")"
   ]
  },
  {
   "cell_type": "markdown",
   "id": "2723ef8a-ae5c-47c0-8af0-635497ab6f81",
   "metadata": {},
   "source": [
    "The same function can also be used to assign choropleth maps to previously created subplots using the `ax` keyword argument, as shown below."
   ]
  },
  {
   "cell_type": "code",
   "execution_count": null,
   "id": "60b4fa14-d69f-4526-af2a-e7b2ecc705cd",
   "metadata": {},
   "outputs": [],
   "source": [
    "# Setup subplots\n",
    "fig, axes = plt.subplots(nrows=4, ncols=2, figsize=(15, 15))\n",
    "axes = axes.flatten()\n",
    "\n",
    "# Params to plot, specificed as tuples\n",
    "par_list = ['totn', \"din\", \"ton\", 'totp', \"tdp\", \"tpp\", \"toc\", \"ss\"]\n",
    "plot_pars = [(\"accum\", f\"diff_{par}_kg\") for par in par_list]\n",
    "for idx, par in enumerate(plot_pars):\n",
    "    teo.vis.choropleth_map(\n",
    "        g,\n",
    "        reg_gdf,\n",
    "        id_col=\"regine\",\n",
    "        stat=par[0],\n",
    "        quant=par[1],\n",
    "        trans=\"none\",\n",
    "        cmap=\"viridis\",\n",
    "        scheme=\"natural_breaks\",\n",
    "        n_classes=5,\n",
    "        plot_path=None,\n",
    "        ax=axes[idx],\n",
    "    )\n",
    "plt.tight_layout()"
   ]
  },
  {
   "cell_type": "markdown",
   "id": "8b68c19f-c272-4854-a5f3-cc442e9171a2",
   "metadata": {},
   "source": [
    "### 5.3. Convert results to a dataframe\n",
    "\n",
    "Finally, results from TEOTIL3 can easily be converted to a dataframe for further analysis (or e.g. to save as a CSV)."
   ]
  },
  {
   "cell_type": "code",
   "execution_count": null,
   "id": "56498ade-9868-4205-9242-73e8eaf37fd3",
   "metadata": {
    "tags": []
   },
   "outputs": [],
   "source": [
    "# Convert to dataframe\n",
    "res_df = teo.model.model_to_dataframe(g, id_col=\"regine\", next_down_col=\"regine_down\")\n",
    "res_df.head()"
   ]
  }
 ],
 "metadata": {
  "kernelspec": {
   "display_name": "Python 3 (ipykernel)",
   "language": "python",
   "name": "python3"
  },
  "language_info": {
   "codemirror_mode": {
    "name": "ipython",
    "version": 3
   },
   "file_extension": ".py",
   "mimetype": "text/x-python",
   "name": "python",
   "nbconvert_exporter": "python",
   "pygments_lexer": "ipython3",
   "version": "3.11.6"
  }
 },
 "nbformat": 4,
 "nbformat_minor": 5
}
