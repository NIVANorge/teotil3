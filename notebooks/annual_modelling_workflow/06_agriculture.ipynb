{
 "cells": [
  {
   "cell_type": "markdown",
   "id": "735ce537-e2f2-42b9-b06d-18535400466d",
   "metadata": {},
   "source": [
    "# TEOTIL3: Tidy annual data\n",
    "\n",
    "## Part 6: Agriculture\n",
    "\n",
    "## Workflow overview\n",
    "\n",
    "NIBIO send a completed Excel template with regine-level data for each year. The template has two worksheets: one for \"annual\" losses (i.e. including weather variability) and one for \"risk-based\" losses (where weather is held fixed to better explore the effects of land management). Annual losses are most relevant for TEOTIL, but both are added to the database.\n",
    "\n",
    "The files from NIBIO should be renamed `nibio_agri_data_{year}.xlsx` and added to the folder here:\n",
    "\n",
    "    /home/jovyan/shared/common/teotil3/agri_data/agri_data_v{YYYYMMDD}\n",
    "\n",
    "Where the version number refers to the date of **method updates**. For example, NIBIO occasionally recalculates losses and sends new versions of the historic files. It is **not** necessary to create a new subfolder each year when data are received. As long as the new data use a methodology that is compatible with the existing data, just add the new file to the same folder. For example, on 20241122, NIBIO provided an entirely new dataset for 2013 to 2023 incorporating methodological changes. As long as the 2024 data uses the same methodology, it can just be added to the same folder."
   ]
  }
 ],
 "metadata": {
  "kernelspec": {
   "display_name": "Python 3 (ipykernel)",
   "language": "python",
   "name": "python3"
  },
  "language_info": {
   "codemirror_mode": {
    "name": "ipython",
    "version": 3
   },
   "file_extension": ".py",
   "mimetype": "text/x-python",
   "name": "python",
   "nbconvert_exporter": "python",
   "pygments_lexer": "ipython3",
   "version": "3.13.2"
  }
 },
 "nbformat": 4,
 "nbformat_minor": 5
}
