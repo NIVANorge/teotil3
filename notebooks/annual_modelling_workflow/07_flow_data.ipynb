{
 "cells": [
  {
   "cell_type": "markdown",
   "id": "375da053-854c-4f46-aacb-c831928d68c7",
   "metadata": {},
   "source": [
    "# TEOTIL3: Tidy annual data\n",
    "\n",
    "## Part 7: Water discharge\n",
    "\n",
    "## Workflow overview\n",
    "\n",
    "Each year, Stein Beldring at NVE sends a zip archive containing HBV model results for the 262 vassdragsområder. The results span the period from 1990 to `data_year` (where `data_year` is usually the current year minus one).\n",
    "\n",
    " 1. Rename the zip archive and upload it here:\n",
    "\n",
    "        /home/jovyan/shared/common/teotil3/nve_hbv_data/RID_{data_year}/nve_rid_{data_year}.zip\n",
    "\n",
    " 2. Extract all the `.var` files to the `RID_{data_year}` folder.\n",
    "\n",
    " 3. Add a `README` specifying the version of the meteorological input data used in the modelling (usually provided by Stein when he sends the data)."
   ]
  }
 ],
 "metadata": {
  "kernelspec": {
   "display_name": "Python 3 (ipykernel)",
   "language": "python",
   "name": "python3"
  },
  "language_info": {
   "codemirror_mode": {
    "name": "ipython",
    "version": 3
   },
   "file_extension": ".py",
   "mimetype": "text/x-python",
   "name": "python",
   "nbconvert_exporter": "python",
   "pygments_lexer": "ipython3",
   "version": "3.13.2"
  }
 },
 "nbformat": 4,
 "nbformat_minor": 5
}
