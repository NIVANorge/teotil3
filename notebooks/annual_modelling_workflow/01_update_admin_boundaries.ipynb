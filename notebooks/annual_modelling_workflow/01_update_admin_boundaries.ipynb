{
 "cells": [
  {
   "cell_type": "code",
   "execution_count": null,
   "id": "b2437d5e-90b1-4869-9ada-f76a265c18ef",
   "metadata": {},
   "outputs": [],
   "source": [
    "# # Run this and then restart the kernel at the start of each session to install\n",
    "# # 'teotil3' in development mode\n",
    "# !pip install -e /home/jovyan/projects/teotil3/"
   ]
  },
  {
   "cell_type": "code",
   "execution_count": null,
   "id": "42a056a4-9c5f-429f-b32f-507246f344b0",
   "metadata": {},
   "outputs": [],
   "source": [
    "import os\n",
    "\n",
    "import geopandas as gpd\n",
    "import nivapy3 as nivapy\n",
    "import pandas as pd\n",
    "import teotil3 as teo\n",
    "from sqlalchemy import text"
   ]
  },
  {
   "cell_type": "code",
   "execution_count": null,
   "id": "beb986eb-3fd0-49fc-8ea6-496775dff427",
   "metadata": {},
   "outputs": [],
   "source": [
    "# Connect to PostGIS\n",
    "eng = nivapy.da.connect_postgis(admin=True)"
   ]
  },
  {
   "cell_type": "markdown",
   "id": "82b4715e-9e1b-4164-bd50-d58ae87456c3",
   "metadata": {},
   "source": [
    "# TEOTIL3: Tidy annual data\n",
    "\n",
    "## Part 1: Update administrative boundaries\n",
    "\n",
    "Fylke and kommune boundaries may change from year to year. This notebook makes sure the latest administrative names and codes are present in the TEOTIL3 database and assigns regines to administrative units.\n",
    "\n",
    "## Workflow overview\n",
    "\n",
    " 1. Download the latest **kommune boundaries** for the **current year** from [GeoNorge](https://www.geonorge.no/). Choose UTM Zone 33N as the CRS and FGDB as the output format. Fylke boundaries are derived by dissolving the kommune dataset, so it is not necessary to download the fylke dataset as well.\n",
    "    \n",
    " 2. Rename the FGDB `kommuner{year}.gdb`. Zip it, upload to `/home/jovyan/shared/common/teotil3/core_data/administrative/raw`, unzip, and delete the zip archive.\n",
    "\n",
    " 3. Run the code cells below to process the new administrative data and assign it to regines. **Note that the NIBIO regines are hard-coded below (`nib_gpkg`)**. This is because NIBIO cannot update their regine dataset each year.\n",
    " \n",
    " 4. Run the code cell to upload data to PostGIS."
   ]
  },
  {
   "cell_type": "code",
   "execution_count": null,
   "id": "670ca8f8-89bd-4e43-a311-3320fded6a04",
   "metadata": {},
   "outputs": [],
   "source": [
    "# Data are being uploaded for 'data_year'\n",
    "data_year = 2023\n",
    "\n",
    "# 'admin_year' is usually the current year (i.e. 'data_year' + 1).\n",
    "# It's also the year for which new admin. boundaries will be added.\n",
    "admin_year = data_year + 1"
   ]
  },
  {
   "cell_type": "markdown",
   "id": "61b92798-0564-4c5e-84df-cf7068e0049d",
   "metadata": {},
   "source": [
    "## 1. Process data"
   ]
  },
  {
   "cell_type": "code",
   "execution_count": null,
   "id": "8cce7c90-ca8b-422a-b166-2a182a1a6ba3",
   "metadata": {},
   "outputs": [],
   "source": [
    "# Process admin. boundaries\n",
    "admin_data_fold = r\"/home/jovyan/shared/common/teotil3/core_data/administrative\"\n",
    "admin_gpkg = os.path.join(admin_data_fold, \"admin_data.gpkg\")\n",
    "gdb_path = os.path.join(admin_data_fold, \"raw\", f\"kommuner{admin_year}.gdb\")\n",
    "gdf = gpd.read_file(gdb_path, layer=\"kommune\")\n",
    "\n",
    "# Get fylkesnummer from kommnr\n",
    "gdf.rename({\"kommunenummer\": \"komnr\"}, axis=\"columns\", inplace=True)\n",
    "gdf[\"komnr\"] = gdf[\"komnr\"].astype(str)\n",
    "gdf[\"fylnr\"] = gdf[\"komnr\"].str[:2]\n",
    "gdf = gdf[[\"fylnr\", \"komnr\", \"geometry\"]]\n",
    "\n",
    "# Dissolve\n",
    "kom_gdf = gdf.dissolve(by=\"komnr\", aggfunc=\"first\").reset_index()\n",
    "kom_gdf = kom_gdf[[\"fylnr\", \"komnr\", \"geometry\"]]\n",
    "fyl_gdf = gdf.dissolve(by=\"fylnr\").reset_index()\n",
    "fyl_gdf = fyl_gdf[[\"fylnr\", \"geometry\"]]\n",
    "\n",
    "# Save\n",
    "kom_gdf.to_file(\n",
    "    admin_gpkg,\n",
    "    driver=\"GPKG\",\n",
    "    layer=f\"kommuner{admin_year}\",\n",
    "    index=False,\n",
    ")\n",
    "fyl_gdf.to_file(\n",
    "    admin_gpkg,\n",
    "    driver=\"GPKG\",\n",
    "    layer=f\"fylker{admin_year}\",\n",
    "    index=False,\n",
    ")\n",
    "\n",
    "# Assign to regines\n",
    "nib_gpkg = r\"/home/jovyan/shared/common/teotil3/core_data/hydrology/nibio_regines.gpkg\"\n",
    "reg_gdf = gpd.read_file(nib_gpkg, layer=\"RegineEnhetNibio\")\n",
    "reg_gdf = teo.preprocessing.assign_regines_to_administrative_units(\n",
    "    reg_gdf, admin_gpkg, admin_year\n",
    ")\n",
    "reg_gdf.rename(\n",
    "    {\"komnr\": f\"komnr_{admin_year}\", \"fylnr\": f\"fylnr_{admin_year}\"},\n",
    "    axis=\"columns\",\n",
    "    inplace=True,\n",
    ")\n",
    "reg_gdf = reg_gdf[[\"regine\", f\"komnr_{admin_year}\", f\"fylnr_{admin_year}\"]]\n",
    "assert reg_gdf.isna().sum().sum() == 0"
   ]
  },
  {
   "cell_type": "markdown",
   "id": "db029b3f-d42a-4785-8577-87453a12ffa0",
   "metadata": {},
   "source": [
    "## 2. Add to PostGIS"
   ]
  },
  {
   "cell_type": "code",
   "execution_count": null,
   "id": "4f46f57e-13ca-41d3-9fec-e1233e4d8716",
   "metadata": {},
   "outputs": [],
   "source": [
    "# # Write to temp table\n",
    "# reg_gdf.to_sql(\n",
    "#     \"temp\",\n",
    "#     eng,\n",
    "#     schema=\"teotil3\",\n",
    "#     index=False,\n",
    "#     if_exists=\"replace\",\n",
    "# )\n",
    "\n",
    "# # Extend existing table with new info\n",
    "# with eng.connect() as connection:\n",
    "#     with connection.begin() as transaction:\n",
    "#         # Add new columns\n",
    "#         sql = text(\n",
    "#             f\"ALTER TABLE teotil3.regines \"\n",
    "#             f\"ADD COLUMN komnr_{admin_year} text, \"\n",
    "#             f\"ADD COLUMN fylnr_{admin_year} text\"\n",
    "#         )\n",
    "#         connection.execute(sql)\n",
    "\n",
    "#         # Update with data from temporary table\n",
    "#         sql = text(\n",
    "#             f\"UPDATE teotil3.regines \"\n",
    "#             f\"SET komnr_{admin_year} = temp.komnr_{admin_year}, \"\n",
    "#             f\"    fylnr_{admin_year} = temp.fylnr_{admin_year} \"\n",
    "#             f\"FROM teotil3.temp temp \"\n",
    "#             f\"WHERE teotil3.regines.regine = temp.regine\"\n",
    "#         )\n",
    "#         connection.execute(sql)\n",
    "\n",
    "#         # Add NOT NULL constraint\n",
    "#         sql = text(\n",
    "#             f\"ALTER TABLE teotil3.regines \"\n",
    "#             f\"ALTER COLUMN komnr_{admin_year} SET NOT NULL, \"\n",
    "#             f\"ALTER COLUMN fylnr_{admin_year} SET NOT NULL\"\n",
    "#         )\n",
    "#         connection.execute(sql)\n",
    "\n",
    "#         # Drop the temporary table\n",
    "#         sql = text(\"DROP TABLE teotil3.temp\")\n",
    "#         connection.execute(sql)\n",
    "\n",
    "#         transaction.commit()"
   ]
  }
 ],
 "metadata": {
  "kernelspec": {
   "display_name": "Python 3 (ipykernel)",
   "language": "python",
   "name": "python3"
  },
  "language_info": {
   "codemirror_mode": {
    "name": "ipython",
    "version": 3
   },
   "file_extension": ".py",
   "mimetype": "text/x-python",
   "name": "python",
   "nbconvert_exporter": "python",
   "pygments_lexer": "ipython3",
   "version": "3.13.2"
  }
 },
 "nbformat": 4,
 "nbformat_minor": 5
}
