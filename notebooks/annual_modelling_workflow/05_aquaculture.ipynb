{
 "cells": [
  {
   "cell_type": "markdown",
   "id": "547d95b9-8a74-4cf3-805d-575007e65d77",
   "metadata": {},
   "source": [
    "# TEOTIL3: Tidy annual data\n",
    "\n",
    "## Part 5: Aquaculture\n",
    "\n",
    "## Workflow overview\n",
    "\n",
    "The aquaculture dataset from Fiskeridirektoratet is usually encrypted and must be stored securely. Copy and rename the file to `aquaculture_{year}_raw.xlsx`, and change the worksheet name to `Sheet1`. Check that data have only been provided for one year and that the column names match submissions from previous years.\n",
    "\n",
    "As part of reporting to OSPAR, we usually also estimate data for **copper usage in aquaculture** and add it to the database. Miljødirektoratet (Espen Wigaard and Hilde Skarra) will supply an annual total for the amount of copper used in aquaculture (in tonnes), which should be added to the file [here](https://github.com/NIVANorge/teotil3/blob/main/data/aquaculture_annual_copper_usage.csv) and **pushed to GitHub before running the notebook that updates the database**."
   ]
  }
 ],
 "metadata": {
  "kernelspec": {
   "display_name": "Python 3 (ipykernel)",
   "language": "python",
   "name": "python3"
  },
  "language_info": {
   "codemirror_mode": {
    "name": "ipython",
    "version": 3
   },
   "file_extension": ".py",
   "mimetype": "text/x-python",
   "name": "python",
   "nbconvert_exporter": "python",
   "pygments_lexer": "ipython3",
   "version": "3.13.2"
  }
 },
 "nbformat": 4,
 "nbformat_minor": 5
}
